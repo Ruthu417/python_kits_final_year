{
 "cells": [
  {
   "cell_type": "markdown",
   "metadata": {},
   "source": [
    "### Files in Python\n",
    "- Anything that contains the information/data\n",
    "- It may be of different kinds\n",
    "    - .txt,.py,.exe,.c,.pdf,.doc,.xl,.mp3,.mp4 etc..\n",
    "- **File Operations**\n",
    "    1. Open()\n",
    "        - Opens the file in 2 ways\n",
    "    2. Read()\n",
    "        - reads the content in file\n",
    "    3. Write()\n",
    "        - Overwrites existed data and adds the new data\n",
    "    4. Append()\n",
    "        - Adds the new data to the existed one\n",
    "    4. Close()\n",
    "        - It will close the file\n",
    "- **Opening the file**\n",
    "    - Syntax:\n",
    "        - open(filename,mode)\n",
    "        - with open(filename,mode)\n",
    "        - mode :read/write\n",
    "        - mode \"r\" represents the read operation\n",
    "        - mode \"w\" represents the write operation\n",
    "        - mode \"a\" -->append op'n"
   ]
  },
  {
   "cell_type": "markdown",
   "metadata": {},
   "source": [
    "#### Working with files"
   ]
  },
  {
   "cell_type": "code",
   "execution_count": 3,
   "metadata": {
    "collapsed": true
   },
   "outputs": [
    {
     "name": "stdout",
     "output_type": "stream",
     "text": [
      "{\n",
      " \"cells\": [\n",
      "  {\n",
      "   \"cell_type\": \"markdown\",\n",
      "   \"metadata\": {},\n",
      "   \"source\": [\n",
      "    \"### Dictionary\\n\",\n",
      "    \"- key , value pair data structure\\n\",\n",
      "    \"- key,value together called as an item \\n\",\n",
      "    \"- {}\\n\",\n",
      "    \"- mutable in nature\\n\",\n",
      "    \"- we can modify/update the data in dic\\n\",\n",
      "    \"- no two keys in the dic are similar(keys are unique)\\n\",\n",
      "    \"- keys are the references for values\\n\",\n",
      "    \"- key may be any data type\\n\",\n",
      "    \"- value may be any other data structure\"\n",
      "   ]\n",
      "  },\n",
      "  {\n",
      "   \"cell_type\": \"code\",\n",
      "   \"execution_count\": 6,\n",
      "   \"metadata\": {\n",
      "    \"collapsed\": true\n",
      "   },\n",
      "   \"outputs\": [\n",
      "    {\n",
      "     \"data\": {\n",
      "      \"text/plain\": [\n",
      "       \"{'integer': 12, 'string': 'online session', 234.9: '98.67'}\"\n",
      "      ]\n",
      "     },\n",
      "     \"execution_count\": 6,\n",
      "     \"metadata\": {},\n",
      "     \"output_type\": \"execute_result\"\n",
      "    }\n",
      "   ],\n",
      "   \"source\": [\n",
      "    \"dic={'integer':12,'string':'online session',234.90:'98.67'}\\n\",\n",
      "    \"dic\"\n",
      "   ]\n",
      "  },\n",
      "  {\n",
      "   \"cell_type\": \"code\",\n",
      "   \"execution_count\": 5,\n",
      "   \"metadata\": {\n",
      "    \"collapsed\": true\n",
      "   },\n",
      "   \"outputs\": [\n",
      "    {\n",
      "     \"data\": {\n",
      "      \"text/plain\": [\n",
      "       \"{'Int': [1, 2, 3, 4],\\n\",\n",
      "       \" 'str': 'hi hello hey',\\n\",\n",
      "       \" 'details': ('name', '130417', 9876543210)}\"\n",
      "      ]\n",
      "     },\n",
      "     \"execution_count\": 5,\n",
      "     \"metadata\": {},\n",
      "     \"output_type\": \"execute_result\"\n",
      "    }\n",
      "   ],\n",
      "   \"source\": [\n",
      "    \"all={\\\"Int\\\":[1,2,3,4],'str':'hi hello hey','details':('name','130417',9876543210)}\\n\",\n",
      "    \"all\"\n",
      "   ]\n",
      "  },\n",
      "  {\n",
      "   \"cell_type\": \"code\",\n",
      "   \"execution_count\": 4,\n",
      "   \"metadata\": {\n",
      "    \"collapsed\": true\n",
      "   },\n",
      "   \"outputs\": [\n",
      "    {\n",
      "     \"data\": {\n",
      "      \"text/plain\": [\n",
      "       \"{'integer': 987678, 'string': 'online session'}\"\n",
      "      ]\n",
      "     },\n",
      "     \"execution_count\": 4,\n",
      "     \"metadata\": {},\n",
      "     \"output_type\": \"execute_result\"\n",
      "    }\n",
      "   ],\n",
      "   \"source\": [\n",
      "    \"dic2={'integer':12,'string':'online session','integer':987678}\\n\",\n",
      "    \"dic2\"\n",
      "   ]\n",
      "  },\n",
      "  {\n",
      "   \"cell_type\": \"markdown\",\n",
      "   \"metadata\": {},\n",
      "   \"source\": [\n",
      "    \"#### dictionary methods\"\n",
      "   ]\n",
      "  },\n",
      "  {\n",
      "   \"cell_type\": \"code\",\n",
      "   \"execution_count\": 7,\n",
      "   \"metadata\": {\n",
      "    \"collapsed\": true\n",
      "   },\n",
      "   \"outputs\": [\n",
      "    {\n",
      "     \"data\": {\n",
      "      \"text/plain\": [\n",
      "       \"['__class__',\\n\",\n",
      "       \" '__contains__',\\n\",\n",
      "       \" '__delattr__',\\n\",\n",
      "       \" '__delitem__',\\n\",\n",
      "       \" '__dir__',\\n\",\n",
      "       \" '__doc__',\\n\",\n",
      "       \" '__eq__',\\n\",\n",
      "       \" '__format__',\\n\",\n",
      "       \" '__ge__',\\n\",\n",
      "       \" '__getattribute__',\\n\",\n",
      "       \" '__getitem__',\\n\",\n",
      "       \" '__gt__',\\n\",\n",
      "       \" '__hash__',\\n\",\n",
      "       \" '__init__',\\n\",\n",
      "       \" '__init_subclass__',\\n\",\n",
      "       \" '__iter__',\\n\",\n",
      "       \" '__le__',\\n\",\n",
      "       \" '__len__',\\n\",\n",
      "       \" '__lt__',\\n\",\n",
      "       \" '__ne__',\\n\",\n",
      "       \" '__new__',\\n\",\n",
      "       \" '__reduce__',\\n\",\n",
      "       \" '__reduce_ex__',\\n\",\n",
      "       \" '__repr__',\\n\",\n",
      "       \" '__setattr__',\\n\",\n",
      "       \" '__setitem__',\\n\",\n",
      "       \" '__sizeof__',\\n\",\n",
      "       \" '__str__',\\n\",\n",
      "       \" '__subclasshook__',\\n\",\n",
      "       \" 'clear',\\n\",\n",
      "       \" 'copy',\\n\",\n",
      "       \" 'fromkeys',\\n\",\n",
      "       \" 'get',\\n\",\n",
      "       \" 'items',\\n\",\n",
      "       \" 'keys',\\n\",\n",
      "       \" 'pop',\\n\",\n",
      "       \" 'popitem',\\n\",\n",
      "       \" 'setdefault',\\n\",\n",
      "       \" 'update',\\n\",\n",
      "       \" 'values']\"\n",
      "      ]\n",
      "     },\n",
      "     \"execution_count\": 7,\n",
      "     \"metadata\": {},\n",
      "     \"output_type\": \"execute_result\"\n",
      "    }\n",
      "   ],\n",
      "   \"source\": [\n",
      "    \"dir(dict)\"\n",
      "   ]\n",
      "  },\n",
      "  {\n",
      "   \"cell_type\": \"code\",\n",
      "   \"execution_count\": 8,\n",
      "   \"metadata\": {\n",
      "    \"collapsed\": true\n",
      "   },\n",
      "   \"outputs\": [\n",
      "    {\n",
      "     \"data\": {\n",
      "      \"text/plain\": [\n",
      "       \"{'Int': [1, 2, 3, 4],\\n\",\n",
      "       \" 'str': 'hi hello hey',\\n\",\n",
      "       \" 'details': ('name', '130417', 9876543210)}\"\n",
      "      ]\n",
      "     },\n",
      "     \"execution_count\": 8,\n",
      "     \"metadata\": {},\n",
      "     \"output_type\": \"execute_result\"\n",
      "    }\n",
      "   ],\n",
      "   \"source\": [\n",
      "    \"all\"\n",
      "   ]\n",
      "  },\n",
      "  {\n",
      "   \"cell_type\": \"code\",\n",
      "   \"execution_count\": 9,\n",
      "   \"metadata\": {},\n",
      "   \"outputs\": [\n",
      "    {\n",
      "     \"data\": {\n",
      "      \"text/plain\": [\n",
      "       \"dict_keys(['Int', 'str', 'details'])\"\n",
      "      ]\n",
      "     },\n",
      "     \"execution_count\": 9,\n",
      "     \"metadata\": {},\n",
      "     \"output_type\": \"execute_result\"\n",
      "    }\n",
      "   ],\n",
      "   \"source\": [\n",
      "    \"# print only keys in dict\\n\",\n",
      "    \"all.keys()\"\n",
      "   ]\n",
      "  },\n",
      "  {\n",
      "   \"cell_type\": \"code\",\n",
      "   \"execution_count\": 11,\n",
      "   \"metadata\": {},\n",
      "   \"outputs\": [\n",
      "    {\n",
      "     \"data\": {\n",
      "      \"text/plain\": [\n",
      "       \"dict_values([987678, 'online session'])\"\n",
      "      ]\n",
      "     },\n",
      "     \"execution_count\": 11,\n",
      "     \"metadata\": {},\n",
      "     \"output_type\": \"execute_result\"\n",
      "    }\n",
      "   ],\n",
      "   \"source\": [\n",
      "    \"dic2.values()\"\n",
      "   ]\n",
      "  },\n",
      "  {\n",
      "   \"cell_type\": \"code\",\n",
      "   \"execution_count\": 12,\n",
      "   \"metadata\": {},\n",
      "   \"outputs\": [\n",
      "    {\n",
      "     \"name\": \"stdout\",\n",
      "     \"output_type\": \"stream\",\n",
      "     \"text\": [\n",
      "      \"Int\\n\",\n",
      "      \"str\\n\",\n",
      "      \"details\\n\"\n",
      "     ]\n",
      "    }\n",
      "   ],\n",
      "   \"source\": [\n",
      "    \"for key in all.keys():\\n\",\n",
      "    \"    print(key)\"\n",
      "   ]\n",
      "  },\n",
      "  {\n",
      "   \"cell_type\": \"code\",\n",
      "   \"execution_count\": 15,\n",
      "   \"metadata\": {\n",
      "    \"collapsed\": true\n",
      "   },\n",
      "   \"outputs\": [\n",
      "    {\n",
      "     \"name\": \"stdout\",\n",
      "     \"output_type\": \"stream\",\n",
      "     \"text\": [\n",
      "      \"12 online session 98.67 \"\n",
      "     ]\n",
      "    }\n",
      "   ],\n",
      "   \"source\": [\n",
      "    \"for val in dic.values():\\n\",\n",
      "    \"    print(val,end=\\\" \\\")\"\n",
      "   ]\n",
      "  },\n",
      "  {\n",
      "   \"cell_type\": \"code\",\n",
      "   \"execution_count\": 16,\n",
      "   \"metadata\": {},\n",
      "   \"outputs\": [\n",
      "    {\n",
      "     \"data\": {\n",
      "      \"text/plain\": [\n",
      "       \"dict_items([('integer', 12), ('string', 'online session'), (234.9, '98.67')])\"\n",
      "      ]\n",
      "     },\n",
      "     \"execution_count\": 16,\n",
      "     \"metadata\": {},\n",
      "     \"output_type\": \"execute_result\"\n",
      "    }\n",
      "   ],\n",
      "   \"source\": [\n",
      "    \"#key,value--item\\n\",\n",
      "    \"dic.items()\"\n",
      "   ]\n",
      "  },\n",
      "  {\n",
      "   \"cell_type\": \"code\",\n",
      "   \"execution_count\": 17,\n",
      "   \"metadata\": {\n",
      "    \"collapsed\": true\n",
      "   },\n",
      "   \"outputs\": [\n",
      "    {\n",
      "     \"name\": \"stdout\",\n",
      "     \"output_type\": \"stream\",\n",
      "     \"text\": [\n",
      "      \"('integer', 12)\\n\",\n",
      "      \"('string', 'online session')\\n\",\n",
      "      \"(234.9, '98.67')\\n\"\n",
      "     ]\n",
      "    }\n",
      "   ],\n",
      "   \"source\": [\n",
      "    \"for item in dic.items():\\n\",\n",
      "    \"    print(item)\"\n",
      "   ]\n",
      "  },\n",
      "  {\n",
      "   \"cell_type\": \"code\",\n",
      "   \"execution_count\": 21,\n",
      "   \"metadata\": {\n",
      "    \"collapsed\": true\n",
      "   },\n",
      "   \"outputs\": [\n",
      "    {\n",
      "     \"name\": \"stdout\",\n",
      "     \"output_type\": \"stream\",\n",
      "     \"text\": [\n",
      "      \"integer:12:\\n\",\n",
      "      \"string:online session:\\n\",\n",
      "      \"234.9:98.67:\\n\"\n",
      "     ]\n",
      "    }\n",
      "   ],\n",
      "   \"source\": [\n",
      "    \"for i in  dic.items() :\\n\",\n",
      "    \"    for j in i :\\n\",\n",
      "    \"        print(j,end=\\\":\\\") \\n\",\n",
      "    \"    print()\"\n",
      "   ]\n",
      "  },\n",
      "  {\n",
      "   \"cell_type\": \"code\",\n",
      "   \"execution_count\": 26,\n",
      "   \"metadata\": {\n",
      "    \"collapsed\": true\n",
      "   },\n",
      "   \"outputs\": [\n",
      "    {\n",
      "     \"ename\": \"AttributeError\",\n",
      "     \"evalue\": \"'tuple' object has no attribute 'keys'\",\n",
      "     \"output_type\": \"error\",\n",
      "     \"traceback\": [\n",
      "      \"\\u001b[1;31m---------------------------------------------------------------------------\\u001b[0m\",\n",
      "      \"\\u001b[1;31mAttributeError\\u001b[0m                            Traceback (most recent call last)\",\n",
      "      \"\\u001b[1;32m<ipython-input-26-5ef607223ec1>\\u001b[0m in \\u001b[0;36m<module>\\u001b[1;34m\\u001b[0m\\n\\u001b[0;32m      1\\u001b[0m \\u001b[1;32mfor\\u001b[0m \\u001b[0mi\\u001b[0m \\u001b[1;32min\\u001b[0m \\u001b[0mdic\\u001b[0m\\u001b[1;33m.\\u001b[0m\\u001b[0mitems\\u001b[0m\\u001b[1;33m(\\u001b[0m\\u001b[1;33m)\\u001b[0m\\u001b[1;33m:\\u001b[0m\\u001b[1;33m\\u001b[0m\\u001b[1;33m\\u001b[0m\\u001b[0m\\n\\u001b[1;32m----> 2\\u001b[1;33m     \\u001b[0mprint\\u001b[0m\\u001b[1;33m(\\u001b[0m\\u001b[0mi\\u001b[0m\\u001b[1;33m.\\u001b[0m\\u001b[0mkeys\\u001b[0m\\u001b[1;33m(\\u001b[0m\\u001b[1;33m)\\u001b[0m\\u001b[1;33m,\\u001b[0m\\u001b[1;34m':'\\u001b[0m\\u001b[1;33m,\\u001b[0m\\u001b[0mi\\u001b[0m\\u001b[1;33m.\\u001b[0m\\u001b[0mvalues\\u001b[0m\\u001b[1;33m(\\u001b[0m\\u001b[1;33m)\\u001b[0m\\u001b[1;33m)\\u001b[0m\\u001b[1;33m\\u001b[0m\\u001b[1;33m\\u001b[0m\\u001b[0m\\n\\u001b[0m\",\n",
      "      \"\\u001b[1;31mAttributeError\\u001b[0m: 'tuple' object has no attribute 'keys'\"\n",
      "     ]\n",
      "    }\n",
      "   ],\n",
      "   \"source\": [\n",
      "    \"for i in dic.items():\\n\",\n",
      "    \"    print(i.keys(),':',i.values())\\n\"\n",
      "   ]\n",
      "  },\n",
      "  {\n",
      "   \"cell_type\": \"code\",\n",
      "   \"execution_count\": 30,\n",
      "   \"metadata\": {},\n",
      "   \"outputs\": [\n",
      "    {\n",
      "     \"name\": \"stdout\",\n",
      "     \"output_type\": \"stream\",\n",
      "     \"text\": [\n",
      "      \"integer:12\\n\",\n",
      "      \"string:online session\\n\",\n",
      "      \"234.9:98.67\\n\"\n",
      "     ]\n",
      "    }\n",
      "   ],\n",
      "   \"source\": [\n",
      "    \"for key,val in zip(dic.keys(),dic.values()):\\n\",\n",
      "    \"    print(key,val,sep=\\\":\\\")\"\n",
      "   ]\n",
      "  },\n",
      "  {\n",
      "   \"cell_type\": \"code\",\n",
      "   \"execution_count\": 28,\n",
      "   \"metadata\": {},\n",
      "   \"outputs\": [\n",
      "    {\n",
      "     \"data\": {\n",
      "      \"text/plain\": [\n",
      "       \"{'integer': 12, 'string': 'online session', 234.9: '98.67'}\"\n",
      "      ]\n",
      "     },\n",
      "     \"execution_count\": 28,\n",
      "     \"metadata\": {},\n",
      "     \"output_type\": \"execute_result\"\n",
      "    }\n",
      "   ],\n",
      "   \"source\": [\n",
      "    \"dic\"\n",
      "   ]\n",
      "  },\n",
      "  {\n",
      "   \"cell_type\": \"code\",\n",
      "   \"execution_count\": 29,\n",
      "   \"metadata\": {\n",
      "    \"collapsed\": true\n",
      "   },\n",
      "   \"outputs\": [\n",
      "    {\n",
      "     \"data\": {\n",
      "      \"text/plain\": [\n",
      "       \"{'integer': 987678, 'string': 'online session'}\"\n",
      "      ]\n",
      "     },\n",
      "     \"execution_count\": 29,\n",
      "     \"metadata\": {},\n",
      "     \"output_type\": \"execute_result\"\n",
      "    }\n",
      "   ],\n",
      "   \"source\": [\n",
      "    \"dic2\"\n",
      "   ]\n",
      "  },\n",
      "  {\n",
      "   \"cell_type\": \"code\",\n",
      "   \"execution_count\": 31,\n",
      "   \"metadata\": {\n",
      "    \"collapsed\": true\n",
      "   },\n",
      "   \"outputs\": [\n",
      "    {\n",
      "     \"ename\": \"TypeError\",\n",
      "     \"evalue\": \"'type' object is not iterable\",\n",
      "     \"output_type\": \"error\",\n",
      "     \"traceback\": [\n",
      "      \"\\u001b[1;31m---------------------------------------------------------------------------\\u001b[0m\",\n",
      "      \"\\u001b[1;31mTypeError\\u001b[0m                                 Traceback (most recent call last)\",\n",
      "      \"\\u001b[1;32m<ipython-input-31-0b080f98859b>\\u001b[0m in \\u001b[0;36m<module>\\u001b[1;34m\\u001b[0m\\n\\u001b[1;32m----> 1\\u001b[1;33m \\u001b[1;32mfor\\u001b[0m \\u001b[0mi\\u001b[0m \\u001b[1;32min\\u001b[0m \\u001b[0mdict\\u001b[0m \\u001b[1;33m:\\u001b[0m\\u001b[1;33m\\u001b[0m\\u001b[1;33m\\u001b[0m\\u001b[0m\\n\\u001b[0m\\u001b[0;32m      2\\u001b[0m      \\u001b[0mprint\\u001b[0m\\u001b[1;33m(\\u001b[0m\\u001b[0mi\\u001b[0m\\u001b[1;33m,\\u001b[0m \\u001b[1;34m':'\\u001b[0m\\u001b[1;33m,\\u001b[0m \\u001b[0mdict\\u001b[0m\\u001b[1;33m[\\u001b[0m\\u001b[0mI\\u001b[0m\\u001b[1;33m]\\u001b[0m\\u001b[1;33m)\\u001b[0m\\u001b[1;33m\\u001b[0m\\u001b[1;33m\\u001b[0m\\u001b[0m\\n\",\n",
      "      \"\\u001b[1;31mTypeError\\u001b[0m: 'type' object is not iterable\"\n",
      "     ]\n",
      "    }\n",
      "   ],\n",
      "   \"source\": [\n",
      "    \"for i in dict :\\n\",\n",
      "    \"     print(i, ':', dict[I]) \"\n",
      "   ]\n",
      "  },\n",
      "  {\n",
      "   \"cell_type\": \"code\",\n",
      "   \"execution_count\": 34,\n",
      "   \"metadata\": {\n",
      "    \"collapsed\": true\n",
      "   },\n",
      "   \"outputs\": [\n",
      "    {\n",
      "     \"name\": \"stdout\",\n",
      "     \"output_type\": \"stream\",\n",
      "     \"text\": [\n",
      "      \"integer:12\\n\",\n",
      "      \"string:online session\\n\",\n",
      "      \"234.9:98.67\\n\"\n",
      "     ]\n",
      "    }\n",
      "   ],\n",
      "   \"source\": [\n",
      "    \"for key,val in dic.items():\\n\",\n",
      "    \"    print(key,val,sep=\\\":\\\")\"\n",
      "   ]\n",
      "  },\n",
      "  {\n",
      "   \"cell_type\": \"code\",\n",
      "   \"execution_count\": 35,\n",
      "   \"metadata\": {},\n",
      "   \"outputs\": [\n",
      "    {\n",
      "     \"data\": {\n",
      "      \"text/plain\": [\n",
      "       \"{'Int': [1, 2, 3, 4],\\n\",\n",
      "       \" 'str': 'hi hello hey',\\n\",\n",
      "       \" 'details': ('name', '130417', 9876543210)}\"\n",
      "      ]\n",
      "     },\n",
      "     \"execution_count\": 35,\n",
      "     \"metadata\": {},\n",
      "     \"output_type\": \"execute_result\"\n",
      "    }\n",
      "   ],\n",
      "   \"source\": [\n",
      "    \"all\"\n",
      "   ]\n",
      "  },\n",
      "  {\n",
      "   \"cell_type\": \"code\",\n",
      "   \"execution_count\": 36,\n",
      "   \"metadata\": {},\n",
      "   \"outputs\": [\n",
      "    {\n",
      "     \"data\": {\n",
      "      \"text/plain\": [\n",
      "       \"('name', '130417', 9876543210)\"\n",
      "      ]\n",
      "     },\n",
      "     \"execution_count\": 36,\n",
      "     \"metadata\": {},\n",
      "     \"output_type\": \"execute_result\"\n",
      "    }\n",
      "   ],\n",
      "   \"source\": [\n",
      "    \"all['details'] # dict[key]=value\"\n",
      "   ]\n",
      "  },\n",
      "  {\n",
      "   \"cell_type\": \"code\",\n",
      "   \"execution_count\": 38,\n",
      "   \"metadata\": {},\n",
      "   \"outputs\": [\n",
      "    {\n",
      "     \"data\": {\n",
      "      \"text/plain\": [\n",
      "       \"[1, 2, 3, 4]\"\n",
      "      ]\n",
      "     },\n",
      "     \"execution_count\": 38,\n",
      "     \"metadata\": {},\n",
      "     \"output_type\": \"execute_result\"\n",
      "    }\n",
      "   ],\n",
      "   \"source\": [\n",
      "    \"all['Int']\"\n",
      "   ]\n",
      "  },\n",
      "  {\n",
      "   \"cell_type\": \"code\",\n",
      "   \"execution_count\": 39,\n",
      "   \"metadata\": {},\n",
      "   \"outputs\": [],\n",
      "   \"source\": [\n",
      "    \"all['Int']=98 # modifying the data in dict\"\n",
      "   ]\n",
      "  },\n",
      "  {\n",
      "   \"cell_type\": \"code\",\n",
      "   \"execution_count\": 40,\n",
      "   \"metadata\": {},\n",
      "   \"outputs\": [\n",
      "    {\n",
      "     \"data\": {\n",
      "      \"text/plain\": [\n",
      "       \"{'Int': 98, 'str': 'hi hello hey', 'details': ('name', '130417', 9876543210)}\"\n",
      "      ]\n",
      "     },\n",
      "     \"execution_count\": 40,\n",
      "     \"metadata\": {},\n",
      "     \"output_type\": \"execute_result\"\n",
      "    }\n",
      "   ],\n",
      "   \"source\": [\n",
      "    \"all\"\n",
      "   ]\n",
      "  },\n",
      "  {\n",
      "   \"cell_type\": \"code\",\n",
      "   \"execution_count\": 41,\n",
      "   \"metadata\": {},\n",
      "   \"outputs\": [\n",
      "    {\n",
      "     \"data\": {\n",
      "      \"text/plain\": [\n",
      "       \"{'integer': 12, 'string': 'online session', 234.9: '98.67'}\"\n",
      "      ]\n",
      "     },\n",
      "     \"execution_count\": 41,\n",
      "     \"metadata\": {},\n",
      "     \"output_type\": \"execute_result\"\n",
      "    }\n",
      "   ],\n",
      "   \"source\": [\n",
      "    \"# add new data item to the dict\\n\",\n",
      "    \"dic\"\n",
      "   ]\n",
      "  },\n",
      "  {\n",
      "   \"cell_type\": \"code\",\n",
      "   \"execution_count\": 42,\n",
      "   \"metadata\": {},\n",
      "   \"outputs\": [],\n",
      "   \"source\": [\n",
      "    \"dic['new']='value'\"\n",
      "   ]\n",
      "  },\n",
      "  {\n",
      "   \"cell_type\": \"code\",\n",
      "   \"execution_count\": 43,\n",
      "   \"metadata\": {},\n",
      "   \"outputs\": [\n",
      "    {\n",
      "     \"data\": {\n",
      "      \"text/plain\": [\n",
      "       \"{'integer': 12, 'string': 'online session', 234.9: '98.67', 'new': 'value'}\"\n",
      "      ]\n",
      "     },\n",
      "     \"execution_count\": 43,\n",
      "     \"metadata\": {},\n",
      "     \"output_type\": \"execute_result\"\n",
      "    }\n",
      "   ],\n",
      "   \"source\": [\n",
      "    \"dic\"\n",
      "   ]\n",
      "  },\n",
      "  {\n",
      "   \"cell_type\": \"code\",\n",
      "   \"execution_count\": 44,\n",
      "   \"metadata\": {},\n",
      "   \"outputs\": [\n",
      "    {\n",
      "     \"data\": {\n",
      "      \"text/plain\": [\n",
      "       \"('new', 'value')\"\n",
      "      ]\n",
      "     },\n",
      "     \"execution_count\": 44,\n",
      "     \"metadata\": {},\n",
      "     \"output_type\": \"execute_result\"\n",
      "    }\n",
      "   ],\n",
      "   \"source\": [\n",
      "    \"dic.popitem()\"\n",
      "   ]\n",
      "  },\n",
      "  {\n",
      "   \"cell_type\": \"code\",\n",
      "   \"execution_count\": 45,\n",
      "   \"metadata\": {},\n",
      "   \"outputs\": [\n",
      "    {\n",
      "     \"data\": {\n",
      "      \"text/plain\": [\n",
      "       \"{'integer': 12, 'string': 'online session', 234.9: '98.67'}\"\n",
      "      ]\n",
      "     },\n",
      "     \"execution_count\": 45,\n",
      "     \"metadata\": {},\n",
      "     \"output_type\": \"execute_result\"\n",
      "    }\n",
      "   ],\n",
      "   \"source\": [\n",
      "    \"dic\"\n",
      "   ]\n",
      "  },\n",
      "  {\n",
      "   \"cell_type\": \"code\",\n",
      "   \"execution_count\": 46,\n",
      "   \"metadata\": {},\n",
      "   \"outputs\": [\n",
      "    {\n",
      "     \"data\": {\n",
      "      \"text/plain\": [\n",
      "       \"'online session'\"\n",
      "      ]\n",
      "     },\n",
      "     \"execution_count\": 46,\n",
      "     \"metadata\": {},\n",
      "     \"output_type\": \"execute_result\"\n",
      "    }\n",
      "   ],\n",
      "   \"source\": [\n",
      "    \"dic.pop('string') # removes the perticular item\"\n",
      "   ]\n",
      "  },\n",
      "  {\n",
      "   \"cell_type\": \"code\",\n",
      "   \"execution_count\": 47,\n",
      "   \"metadata\": {},\n",
      "   \"outputs\": [\n",
      "    {\n",
      "     \"data\": {\n",
      "      \"text/plain\": [\n",
      "       \"{'integer': 12, 234.9: '98.67'}\"\n",
      "      ]\n",
      "     },\n",
      "     \"execution_count\": 47,\n",
      "     \"metadata\": {},\n",
      "     \"output_type\": \"execute_result\"\n",
      "    }\n",
      "   ],\n",
      "   \"source\": [\n",
      "    \"dic\"\n",
      "   ]\n",
      "  },\n",
      "  {\n",
      "   \"cell_type\": \"code\",\n",
      "   \"execution_count\": 48,\n",
      "   \"metadata\": {},\n",
      "   \"outputs\": [\n",
      "    {\n",
      "     \"data\": {\n",
      "      \"text/plain\": [\n",
      "       \"{'integer': 12, 234.9: '98.67'}\"\n",
      "      ]\n",
      "     },\n",
      "     \"execution_count\": 48,\n",
      "     \"metadata\": {},\n",
      "     \"output_type\": \"execute_result\"\n",
      "    }\n",
      "   ],\n",
      "   \"source\": [\n",
      "    \"dic.copy()\"\n",
      "   ]\n",
      "  },\n",
      "  {\n",
      "   \"cell_type\": \"code\",\n",
      "   \"execution_count\": 49,\n",
      "   \"metadata\": {},\n",
      "   \"outputs\": [\n",
      "    {\n",
      "     \"data\": {\n",
      "      \"text/plain\": [\n",
      "       \"{'integer': 12, 234.9: '98.67'}\"\n",
      "      ]\n",
      "     },\n",
      "     \"execution_count\": 49,\n",
      "     \"metadata\": {},\n",
      "     \"output_type\": \"execute_result\"\n",
      "    }\n",
      "   ],\n",
      "   \"source\": [\n",
      "    \"dic\"\n",
      "   ]\n",
      "  },\n",
      "  {\n",
      "   \"cell_type\": \"code\",\n",
      "   \"execution_count\": 50,\n",
      "   \"metadata\": {},\n",
      "   \"outputs\": [],\n",
      "   \"source\": [\n",
      "    \"new=dic.copy()\"\n",
      "   ]\n",
      "  },\n",
      "  {\n",
      "   \"cell_type\": \"code\",\n",
      "   \"execution_count\": 51,\n",
      "   \"metadata\": {},\n",
      "   \"outputs\": [\n",
      "    {\n",
      "     \"data\": {\n",
      "      \"text/plain\": [\n",
      "       \"{'integer': 12, 234.9: '98.67'}\"\n",
      "      ]\n",
      "     },\n",
      "     \"execution_count\": 51,\n",
      "     \"metadata\": {},\n",
      "     \"output_type\": \"execute_result\"\n",
      "    }\n",
      "   ],\n",
      "   \"source\": [\n",
      "    \"new\"\n",
      "   ]\n",
      "  },\n",
      "  {\n",
      "   \"cell_type\": \"code\",\n",
      "   \"execution_count\": 52,\n",
      "   \"metadata\": {},\n",
      "   \"outputs\": [],\n",
      "   \"source\": [\n",
      "    \"new.clear()\"\n",
      "   ]\n",
      "  },\n",
      "  {\n",
      "   \"cell_type\": \"code\",\n",
      "   \"execution_count\": 53,\n",
      "   \"metadata\": {},\n",
      "   \"outputs\": [\n",
      "    {\n",
      "     \"data\": {\n",
      "      \"text/plain\": [\n",
      "       \"{}\"\n",
      "      ]\n",
      "     },\n",
      "     \"execution_count\": 53,\n",
      "     \"metadata\": {},\n",
      "     \"output_type\": \"execute_result\"\n",
      "    }\n",
      "   ],\n",
      "   \"source\": [\n",
      "    \"new\"\n",
      "   ]\n",
      "  },\n",
      "  {\n",
      "   \"cell_type\": \"code\",\n",
      "   \"execution_count\": 54,\n",
      "   \"metadata\": {},\n",
      "   \"outputs\": [],\n",
      "   \"source\": [\n",
      "    \"new.update(dic2)\"\n",
      "   ]\n",
      "  },\n",
      "  {\n",
      "   \"cell_type\": \"code\",\n",
      "   \"execution_count\": 55,\n",
      "   \"metadata\": {},\n",
      "   \"outputs\": [\n",
      "    {\n",
      "     \"data\": {\n",
      "      \"text/plain\": [\n",
      "       \"{'integer': 987678, 'string': 'online session'}\"\n",
      "      ]\n",
      "     },\n",
      "     \"execution_count\": 55,\n",
      "     \"metadata\": {},\n",
      "     \"output_type\": \"execute_result\"\n",
      "    }\n",
      "   ],\n",
      "   \"source\": [\n",
      "    \"new\"\n",
      "   ]\n",
      "  },\n",
      "  {\n",
      "   \"cell_type\": \"code\",\n",
      "   \"execution_count\": 56,\n",
      "   \"metadata\": {},\n",
      "   \"outputs\": [],\n",
      "   \"source\": [\n",
      "    \"new.update({'key':'name','key2':[1,2,3,4]})\"\n",
      "   ]\n",
      "  },\n",
      "  {\n",
      "   \"cell_type\": \"code\",\n",
      "   \"execution_count\": 57,\n",
      "   \"metadata\": {\n",
      "    \"collapsed\": true\n",
      "   },\n",
      "   \"outputs\": [\n",
      "    {\n",
      "     \"data\": {\n",
      "      \"text/plain\": [\n",
      "       \"{'integer': 987678,\\n\",\n",
      "       \" 'string': 'online session',\\n\",\n",
      "       \" 'key': 'name',\\n\",\n",
      "       \" 'key2': [1, 2, 3, 4]}\"\n",
      "      ]\n",
      "     },\n",
      "     \"execution_count\": 57,\n",
      "     \"metadata\": {},\n",
      "     \"output_type\": \"execute_result\"\n",
      "    }\n",
      "   ],\n",
      "   \"source\": [\n",
      "    \"new\"\n",
      "   ]\n",
      "  },\n",
      "  {\n",
      "   \"cell_type\": \"code\",\n",
      "   \"execution_count\": 60,\n",
      "   \"metadata\": {},\n",
      "   \"outputs\": [\n",
      "    {\n",
      "     \"ename\": \"TypeError\",\n",
      "     \"evalue\": \"fromkeys expected at least 1 arguments, got 0\",\n",
      "     \"output_type\": \"error\",\n",
      "     \"traceback\": [\n",
      "      \"\\u001b[1;31m---------------------------------------------------------------------------\\u001b[0m\",\n",
      "      \"\\u001b[1;31mTypeError\\u001b[0m                                 Traceback (most recent call last)\",\n",
      "      \"\\u001b[1;32m<ipython-input-60-3e9ac1067660>\\u001b[0m in \\u001b[0;36m<module>\\u001b[1;34m\\u001b[0m\\n\\u001b[1;32m----> 1\\u001b[1;33m \\u001b[0mhelp\\u001b[0m\\u001b[1;33m(\\u001b[0m\\u001b[0mdict\\u001b[0m\\u001b[1;33m.\\u001b[0m\\u001b[0mfromkeys\\u001b[0m\\u001b[1;33m(\\u001b[0m\\u001b[1;33m)\\u001b[0m\\u001b[1;33m)\\u001b[0m\\u001b[1;33m\\u001b[0m\\u001b[1;33m\\u001b[0m\\u001b[0m\\n\\u001b[0m\",\n",
      "      \"\\u001b[1;31mTypeError\\u001b[0m: fromkeys expected at least 1 arguments, got 0\"\n",
      "     ]\n",
      "    }\n",
      "   ],\n",
      "   \"source\": [\n",
      "    \"help(dict.fromkeys())\"\n",
      "   ]\n",
      "  },\n",
      "  {\n",
      "   \"cell_type\": \"code\",\n",
      "   \"execution_count\": 61,\n",
      "   \"metadata\": {\n",
      "    \"collapsed\": true\n",
      "   },\n",
      "   \"outputs\": [\n",
      "    {\n",
      "     \"data\": {\n",
      "      \"text/plain\": [\n",
      "       \"['__class__',\\n\",\n",
      "       \" '__contains__',\\n\",\n",
      "       \" '__delattr__',\\n\",\n",
      "       \" '__delitem__',\\n\",\n",
      "       \" '__dir__',\\n\",\n",
      "       \" '__doc__',\\n\",\n",
      "       \" '__eq__',\\n\",\n",
      "       \" '__format__',\\n\",\n",
      "       \" '__ge__',\\n\",\n",
      "       \" '__getattribute__',\\n\",\n",
      "       \" '__getitem__',\\n\",\n",
      "       \" '__gt__',\\n\",\n",
      "       \" '__hash__',\\n\",\n",
      "       \" '__init__',\\n\",\n",
      "       \" '__init_subclass__',\\n\",\n",
      "       \" '__iter__',\\n\",\n",
      "       \" '__le__',\\n\",\n",
      "       \" '__len__',\\n\",\n",
      "       \" '__lt__',\\n\",\n",
      "       \" '__ne__',\\n\",\n",
      "       \" '__new__',\\n\",\n",
      "       \" '__reduce__',\\n\",\n",
      "       \" '__reduce_ex__',\\n\",\n",
      "       \" '__repr__',\\n\",\n",
      "       \" '__setattr__',\\n\",\n",
      "       \" '__setitem__',\\n\",\n",
      "       \" '__sizeof__',\\n\",\n",
      "       \" '__str__',\\n\",\n",
      "       \" '__subclasshook__',\\n\",\n",
      "       \" 'clear',\\n\",\n",
      "       \" 'copy',\\n\",\n",
      "       \" 'fromkeys',\\n\",\n",
      "       \" 'get',\\n\",\n",
      "       \" 'items',\\n\",\n",
      "       \" 'keys',\\n\",\n",
      "       \" 'pop',\\n\",\n",
      "       \" 'popitem',\\n\",\n",
      "       \" 'setdefault',\\n\",\n",
      "       \" 'update',\\n\",\n",
      "       \" 'values']\"\n",
      "      ]\n",
      "     },\n",
      "     \"execution_count\": 61,\n",
      "     \"metadata\": {},\n",
      "     \"output_type\": \"execute_result\"\n",
      "    }\n",
      "   ],\n",
      "   \"source\": [\n",
      "    \"dir(dict)\"\n",
      "   ]\n",
      "  },\n",
      "  {\n",
      "   \"cell_type\": \"code\",\n",
      "   \"execution_count\": 62,\n",
      "   \"metadata\": {},\n",
      "   \"outputs\": [\n",
      "    {\n",
      "     \"data\": {\n",
      "      \"text/plain\": [\n",
      "       \"{'integer': 987678,\\n\",\n",
      "       \" 'string': 'online session',\\n\",\n",
      "       \" 'key': 'name',\\n\",\n",
      "       \" 'key2': [1, 2, 3, 4]}\"\n",
      "      ]\n",
      "     },\n",
      "     \"execution_count\": 62,\n",
      "     \"metadata\": {},\n",
      "     \"output_type\": \"execute_result\"\n",
      "    }\n",
      "   ],\n",
      "   \"source\": [\n",
      "    \"new\"\n",
      "   ]\n",
      "  },\n",
      "  {\n",
      "   \"cell_type\": \"code\",\n",
      "   \"execution_count\": 63,\n",
      "   \"metadata\": {},\n",
      "   \"outputs\": [\n",
      "    {\n",
      "     \"data\": {\n",
      "      \"text/plain\": [\n",
      "       \"'name'\"\n",
      "      ]\n",
      "     },\n",
      "     \"execution_count\": 63,\n",
      "     \"metadata\": {},\n",
      "     \"output_type\": \"execute_result\"\n",
      "    }\n",
      "   ],\n",
      "   \"source\": [\n",
      "    \"new['key']\"\n",
      "   ]\n",
      "  },\n",
      "  {\n",
      "   \"cell_type\": \"code\",\n",
      "   \"execution_count\": 64,\n",
      "   \"metadata\": {},\n",
      "   \"outputs\": [\n",
      "    {\n",
      "     \"data\": {\n",
      "      \"text/plain\": [\n",
      "       \"'name'\"\n",
      "      ]\n",
      "     },\n",
      "     \"execution_count\": 64,\n",
      "     \"metadata\": {},\n",
      "     \"output_type\": \"execute_result\"\n",
      "    }\n",
      "   ],\n",
      "   \"source\": [\n",
      "    \"new.get('key')\"\n",
      "   ]\n",
      "  },\n",
      "  {\n",
      "   \"cell_type\": \"code\",\n",
      "   \"execution_count\": 65,\n",
      "   \"metadata\": {\n",
      "    \"collapsed\": true\n",
      "   },\n",
      "   \"outputs\": [\n",
      "    {\n",
      "     \"name\": \"stdout\",\n",
      "     \"output_type\": \"stream\",\n",
      "     \"text\": [\n",
      "      \"Help on built-in function fromkeys:\\n\",\n",
      "      \"\\n\",\n",
      "      \"fromkeys(iterable, value=None, /) method of builtins.type instance\\n\",\n",
      "      \"    Create a new dictionary with keys from iterable and values set to value.\\n\",\n",
      "      \"\\n\"\n",
      "     ]\n",
      "    }\n",
      "   ],\n",
      "   \"source\": [\n",
      "    \"help(dict.fromkeys)\"\n",
      "   ]\n",
      "  },\n",
      "  {\n",
      "   \"cell_type\": \"code\",\n",
      "   \"execution_count\": 66,\n",
      "   \"metadata\": {},\n",
      "   \"outputs\": [\n",
      "    {\n",
      "     \"data\": {\n",
      "      \"text/plain\": [\n",
      "       \"{1: 1, 2: 4, 3: 9, 4: 16, 5: 25, 6: 36, 7: 49, 8: 64, 9: 81, 10: 100}\"\n",
      "      ]\n",
      "     },\n",
      "     \"execution_count\": 66,\n",
      "     \"metadata\": {},\n",
      "     \"output_type\": \"execute_result\"\n",
      "    }\n",
      "   ],\n",
      "   \"source\": [\n",
      "    \"# prepare a dictionary of no.s from 1 to 10 with their square values\\n\",\n",
      "    \"#nums={1:1,2:4,3:9,...10:100}\\n\",\n",
      "    \"nums={}\\n\",\n",
      "    \"for num in range(1,11):\\n\",\n",
      "    \"    nums[num]=num**2\\n\",\n",
      "    \"nums\"\n",
      "   ]\n",
      "  },\n",
      "  {\n",
      "   \"cell_type\": \"code\",\n",
      "   \"execution_count\": 67,\n",
      "   \"metadata\": {\n",
      "    \"collapsed\": true\n",
      "   },\n",
      "   \"outputs\": [\n",
      "    {\n",
      "     \"name\": \"stdout\",\n",
      "     \"output_type\": \"stream\",\n",
      "     \"text\": [\n",
      "      \"I am Ruthu from APSSDC\\n\"\n",
      "     ]\n",
      "    },\n",
      "    {\n",
      "     \"data\": {\n",
      "      \"text/plain\": [\n",
      "       \"{'I': 73,\\n\",\n",
      "       \" ' ': 32,\\n\",\n",
      "       \" 'a': 97,\\n\",\n",
      "       \" 'm': 109,\\n\",\n",
      "       \" 'R': 82,\\n\",\n",
      "       \" 'u': 117,\\n\",\n",
      "       \" 't': 116,\\n\",\n",
      "       \" 'h': 104,\\n\",\n",
      "       \" 'f': 102,\\n\",\n",
      "       \" 'r': 114,\\n\",\n",
      "       \" 'o': 111,\\n\",\n",
      "       \" 'A': 65,\\n\",\n",
      "       \" 'P': 80,\\n\",\n",
      "       \" 'S': 83,\\n\",\n",
      "       \" 'D': 68,\\n\",\n",
      "       \" 'C': 67}\"\n",
      "      ]\n",
      "     },\n",
      "     \"execution_count\": 67,\n",
      "     \"metadata\": {},\n",
      "     \"output_type\": \"execute_result\"\n",
      "    }\n",
      "   ],\n",
      "   \"source\": [\n",
      "    \"# prepare a dictionary of characters with their ascii values\\n\",\n",
      "    \"st=input()\\n\",\n",
      "    \"chrs={}\\n\",\n",
      "    \"for ch in st:\\n\",\n",
      "    \"    chrs[ch]=ord(ch)\\n\",\n",
      "    \"chrs\"\n",
      "   ]\n",
      "  },\n",
      "  {\n",
      "   \"cell_type\": \"code\",\n",
      "   \"execution_count\": 2,\n",
      "   \"metadata\": {\n",
      "    \"collapsed\": true\n",
      "   },\n",
      "   \"outputs\": [\n",
      "    {\n",
      "     \"name\": \"stdout\",\n",
      "     \"output_type\": \"stream\",\n",
      "     \"text\": [\n",
      "      \"I am Ruthu\\n\"\n",
      "     ]\n",
      "    },\n",
      "    {\n",
      "     \"data\": {\n",
      "      \"text/plain\": [\n",
      "       \"{'I': 73, ' ': 32, 'a': 97, 'm': 109, 'R': 82, 'u': 117, 't': 116, 'h': 104}\"\n",
      "      ]\n",
      "     },\n",
      "     \"execution_count\": 2,\n",
      "     \"metadata\": {},\n",
      "     \"output_type\": \"execute_result\"\n",
      "    }\n",
      "   ],\n",
      "   \"source\": [\n",
      "    \"# prepare a dictionary of characters whose ascii values are primes\\n\",\n",
      "    \"def is_prime(n):\\n\",\n",
      "    \"    factors=0\\n\",\n",
      "    \"    for num in range(1,n//2+1):\\n\",\n",
      "    \"        if n%num==0:\\n\",\n",
      "    \"            factors+=1\\n\",\n",
      "    \"    if factors==1:\\n\",\n",
      "    \"        return True\\n\",\n",
      "    \"    else:return False\\n\",\n",
      "    \"    \\n\",\n",
      "    \"#is_prime(9)\\n\",\n",
      "    \"st=input()\\n\",\n",
      "    \"chrs={}\\n\",\n",
      "    \"for ch in st:\\n\",\n",
      "    \"    for i in range(2,ord(ch)//2):\\n\",\n",
      "    \"        if(ord(ch)%i!=0):\\n\",\n",
      "    \"            chrs[ch]=ord(ch)\\n\",\n",
      "    \"chrs\\n\"\n",
      "   ]\n",
      "  },\n",
      "  {\n",
      "   \"cell_type\": \"code\",\n",
      "   \"execution_count\": 69,\n",
      "   \"metadata\": {},\n",
      "   \"outputs\": [\n",
      "    {\n",
      "     \"data\": {\n",
      "      \"text/plain\": [\n",
      "       \"True\"\n",
      "      ]\n",
      "     },\n",
      "     \"execution_count\": 69,\n",
      "     \"metadata\": {},\n",
      "     \"output_type\": \"execute_result\"\n",
      "    }\n",
      "   ],\n",
      "   \"source\": [\n",
      "    \"is_prime(11)\"\n",
      "   ]\n",
      "  },\n",
      "  {\n",
      "   \"cell_type\": \"code\",\n",
      "   \"execution_count\": 21,\n",
      "   \"metadata\": {},\n",
      "   \"outputs\": [\n",
      "    {\n",
      "     \"data\": {\n",
      "      \"text/plain\": [\n",
      "       \"{'e': 101}\"\n",
      "      ]\n",
      "     },\n",
      "     \"execution_count\": 21,\n",
      "     \"metadata\": {},\n",
      "     \"output_type\": \"execute_result\"\n",
      "    }\n",
      "   ],\n",
      "   \"source\": [\n",
      "    \"def prime(x) :\\n\",\n",
      "    \"    c = 0\\n\",\n",
      "    \"    for i in range(1, x) :\\n\",\n",
      "    \"        if (x%i==0) :\\n\",\n",
      "    \"            c+=1\\n\",\n",
      "    \"    if c==1:\\n\",\n",
      "    \"         return True\\n\",\n",
      "    \"    else:return False\\n\",\n",
      "    \"X = 'level' \\n\",\n",
      "    \"Y={}\\n\",\n",
      "    \"for I in X:\\n\",\n",
      "    \"    if prime(ord(I)):\\n\",\n",
      "    \"        Y[I] = ord(I)\\n\",\n",
      "    \"Y\\n\"\n",
      "   ]\n",
      "  },\n",
      "  {\n",
      "   \"cell_type\": \"code\",\n",
      "   \"execution_count\": 19,\n",
      "   \"metadata\": {},\n",
      "   \"outputs\": [\n",
      "    {\n",
      "     \"data\": {\n",
      "      \"text/plain\": [\n",
      "       \"97\"\n",
      "      ]\n",
      "     },\n",
      "     \"execution_count\": 19,\n",
      "     \"metadata\": {},\n",
      "     \"output_type\": \"execute_result\"\n",
      "    }\n",
      "   ],\n",
      "   \"source\": [\n",
      "    \"ord('a')\"\n",
      "   ]\n",
      "  },\n",
      "  {\n",
      "   \"cell_type\": \"code\",\n",
      "   \"execution_count\": 13,\n",
      "   \"metadata\": {},\n",
      "   \"outputs\": [\n",
      "    {\n",
      "     \"data\": {\n",
      "      \"text/plain\": [\n",
      "       \"115\"\n",
      "      ]\n",
      "     },\n",
      "     \"execution_count\": 13,\n",
      "     \"metadata\": {},\n",
      "     \"output_type\": \"execute_result\"\n",
      "    }\n",
      "   ],\n",
      "   \"source\": [\n",
      "    \"ord('s')\"\n",
      "   ]\n",
      "  },\n",
      "  {\n",
      "   \"cell_type\": \"code\",\n",
      "   \"execution_count\": 14,\n",
      "   \"metadata\": {},\n",
      "   \"outputs\": [\n",
      "    {\n",
      "     \"data\": {\n",
      "      \"text/plain\": [\n",
      "       \"114\"\n",
      "      ]\n",
      "     },\n",
      "     \"execution_count\": 14,\n",
      "     \"metadata\": {},\n",
      "     \"output_type\": \"execute_result\"\n",
      "    }\n",
      "   ],\n",
      "   \"source\": [\n",
      "    \"ord('r')\"\n",
      "   ]\n",
      "  },\n",
      "  {\n",
      "   \"cell_type\": \"code\",\n",
      "   \"execution_count\": 15,\n",
      "   \"metadata\": {},\n",
      "   \"outputs\": [\n",
      "    {\n",
      "     \"data\": {\n",
      "      \"text/plain\": [\n",
      "       \"116\"\n",
      "      ]\n",
      "     },\n",
      "     \"execution_count\": 15,\n",
      "     \"metadata\": {},\n",
      "     \"output_type\": \"execute_result\"\n",
      "    }\n",
      "   ],\n",
      "   \"source\": [\n",
      "    \"ord('t')\"\n",
      "   ]\n",
      "  },\n",
      "  {\n",
      "   \"cell_type\": \"code\",\n",
      "   \"execution_count\": 16,\n",
      "   \"metadata\": {},\n",
      "   \"outputs\": [\n",
      "    {\n",
      "     \"data\": {\n",
      "      \"text/plain\": [\n",
      "       \"99\"\n",
      "      ]\n",
      "     },\n",
      "     \"execution_count\": 16,\n",
      "     \"metadata\": {},\n",
      "     \"output_type\": \"execute_result\"\n",
      "    }\n",
      "   ],\n",
      "   \"source\": [\n",
      "    \"ord('c')\"\n",
      "   ]\n",
      "  },\n",
      "  {\n",
      "   \"cell_type\": \"code\",\n",
      "   \"execution_count\": 17,\n",
      "   \"metadata\": {},\n",
      "   \"outputs\": [\n",
      "    {\n",
      "     \"data\": {\n",
      "      \"text/plain\": [\n",
      "       \"101\"\n",
      "      ]\n",
      "     },\n",
      "     \"execution_count\": 17,\n",
      "     \"metadata\": {},\n",
      "     \"output_type\": \"execute_result\"\n",
      "    }\n",
      "   ],\n",
      "   \"source\": [\n",
      "    \"ord('e')\"\n",
      "   ]\n",
      "  },\n",
      "  {\n",
      "   \"cell_type\": \"code\",\n",
      "   \"execution_count\": 22,\n",
      "   \"metadata\": {},\n",
      "   \"outputs\": [],\n",
      "   \"source\": [\n",
      "    \"# find the minimum sum and maximum sum in the list of values\\n\",\n",
      "    \"# 879 560 442 671 820 520 105 207 185\\n\",\n",
      "    \"# 4 elements\\n\",\n",
      "    \"#2.find the sum of all the middle digits of no.s in the sequece\"\n",
      "   ]\n",
      "  },\n",
      "  {\n",
      "   \"cell_type\": \"code\",\n",
      "   \"execution_count\": 2,\n",
      "   \"metadata\": {},\n",
      "   \"outputs\": [\n",
      "    {\n",
      "     \"name\": \"stdout\",\n",
      "     \"output_type\": \"stream\",\n",
      "     \"text\": [\n",
      "      \"893 541 672 190 720 178 423\\n\",\n",
      "      \"1332\\n\",\n",
      "      \"2826\\n\"\n",
      "     ]\n",
      "    }\n",
      "   ],\n",
      "   \"source\": [\n",
      "    \"x = input().split() \\n\",\n",
      "    \"for i in range(len(x)) :\\n\",\n",
      "    \"     x[i] = int(x[i]) \\n\",\n",
      "    \"x.sort() \\n\",\n",
      "    \"minSum = sum(x[:4])\\n\",\n",
      "    \"maxSum = sum(x[(len(x)-4):len(x)]) \\n\",\n",
      "    \"print(minSum)\\n\",\n",
      "    \"print(maxSum)\"\n",
      "   ]\n",
      "  },\n",
      "  {\n",
      "   \"cell_type\": \"code\",\n",
      "   \"execution_count\": 25,\n",
      "   \"metadata\": {},\n",
      "   \"outputs\": [\n",
      "    {\n",
      "     \"name\": \"stdout\",\n",
      "     \"output_type\": \"stream\",\n",
      "     \"text\": [\n",
      "      \"893 541 672 190 720 178 423\\n\",\n",
      "      \"minimum sum= 1332\\n\",\n",
      "      \"maximum sum= 2826\\n\"\n",
      "     ]\n",
      "    }\n",
      "   ],\n",
      "   \"source\": [\n",
      "    \"li=[]\\n\",\n",
      "    \"nums=input().split()\\n\",\n",
      "    \"for ch in nums:\\n\",\n",
      "    \"    li.append(int(ch))\\n\",\n",
      "    \"li.sort()\\n\",\n",
      "    \"ms=sum(li[:4])\\n\",\n",
      "    \"mxs=sum(li[-4:])\\n\",\n",
      "    \"print('minimum sum=',ms)\\n\",\n",
      "    \"print('maximum sum=',mxs)\"\n",
      "   ]\n",
      "  },\n",
      "  {\n",
      "   \"cell_type\": \"code\",\n",
      "   \"execution_count\": 3,\n",
      "   \"metadata\": {\n",
      "    \"collapsed\": true\n",
      "   },\n",
      "   \"outputs\": [\n",
      "    {\n",
      "     \"name\": \"stdout\",\n",
      "     \"output_type\": \"stream\",\n",
      "     \"text\": [\n",
      "      \"893 541 672 190 720 178 423\\n\"\n",
      "     ]\n",
      "    },\n",
      "    {\n",
      "     \"ename\": \"TypeError\",\n",
      "     \"evalue\": \"unsupported operand type(s) for %: 'list' and 'int'\",\n",
      "     \"output_type\": \"error\",\n",
      "     \"traceback\": [\n",
      "      \"\\u001b[1;31m---------------------------------------------------------------------------\\u001b[0m\",\n",
      "      \"\\u001b[1;31mTypeError\\u001b[0m                                 Traceback (most recent call last)\",\n",
      "      \"\\u001b[1;32m<ipython-input-3-aebd1baf4c18>\\u001b[0m in \\u001b[0;36m<module>\\u001b[1;34m\\u001b[0m\\n\\u001b[0;32m      4\\u001b[0m         \\u001b[0mn\\u001b[0m\\u001b[1;33m.\\u001b[0m\\u001b[0mappend\\u001b[0m\\u001b[1;33m(\\u001b[0m\\u001b[0mint\\u001b[0m\\u001b[1;33m(\\u001b[0m\\u001b[0mi\\u001b[0m\\u001b[1;33m)\\u001b[0m\\u001b[1;33m)\\u001b[0m\\u001b[1;33m\\u001b[0m\\u001b[1;33m\\u001b[0m\\u001b[0m\\n\\u001b[0;32m      5\\u001b[0m \\u001b[1;32mfor\\u001b[0m \\u001b[0mi\\u001b[0m \\u001b[1;32min\\u001b[0m \\u001b[0mn\\u001b[0m\\u001b[1;33m:\\u001b[0m\\u001b[1;33m\\u001b[0m\\u001b[1;33m\\u001b[0m\\u001b[0m\\n\\u001b[1;32m----> 6\\u001b[1;33m        \\u001b[0ms\\u001b[0m\\u001b[1;33m+=\\u001b[0m\\u001b[1;33m(\\u001b[0m\\u001b[0mn\\u001b[0m\\u001b[1;33m-\\u001b[0m\\u001b[1;33m(\\u001b[0m\\u001b[0mn\\u001b[0m\\u001b[1;33m%\\u001b[0m\\u001b[1;36m100\\u001b[0m\\u001b[1;33m)\\u001b[0m\\u001b[1;33m*\\u001b[0m\\u001b[1;36m100\\u001b[0m\\u001b[1;33m-\\u001b[0m\\u001b[1;33m(\\u001b[0m\\u001b[0mn\\u001b[0m\\u001b[1;33m%\\u001b[0m\\u001b[1;36m10\\u001b[0m\\u001b[1;33m)\\u001b[0m\\u001b[1;33m*\\u001b[0m\\u001b[1;36m10\\u001b[0m\\u001b[1;33m)\\u001b[0m\\u001b[1;33m\\u001b[0m\\u001b[1;33m\\u001b[0m\\u001b[0m\\n\\u001b[0m\\u001b[0;32m      7\\u001b[0m \\u001b[0mprint\\u001b[0m\\u001b[1;33m(\\u001b[0m\\u001b[0ms\\u001b[0m\\u001b[1;33m)\\u001b[0m\\u001b[1;33m\\u001b[0m\\u001b[1;33m\\u001b[0m\\u001b[0m\\n\",\n",
      "      \"\\u001b[1;31mTypeError\\u001b[0m: unsupported operand type(s) for %: 'list' and 'int'\"\n",
      "     ]\n",
      "    }\n",
      "   ],\n",
      "   \"source\": [\n",
      "    \"n=input().split()\\n\",\n",
      "    \"s=0\\n\",\n",
      "    \"for i in range(len(n)):\\n\",\n",
      "    \"        n.append(int(i))\\n\",\n",
      "    \"for i in n:\\n\",\n",
      "    \"       s+=(n-(n%100)*100-(n%10)*10)\\n\",\n",
      "    \"print(s)\\n\"\n",
      "   ]\n",
      "  },\n",
      "  {\n",
      "   \"cell_type\": \"code\",\n",
      "   \"execution_count\": 1,\n",
      "   \"metadata\": {},\n",
      "   \"outputs\": [\n",
      "    {\n",
      "     \"name\": \"stdout\",\n",
      "     \"output_type\": \"stream\",\n",
      "     \"text\": [\n",
      "      \"893 541 672 190 720 178 423\\n\",\n",
      "      \"-2289\\n\"\n",
      "     ]\n",
      "    }\n",
      "   ],\n",
      "   \"source\": [\n",
      "    \"Li=[]\\n\",\n",
      "    \"n=input().split()\\n\",\n",
      "    \"s=0\\n\",\n",
      "    \"for i in range(len(n)):\\n\",\n",
      "    \"        Li.append(int(i))\\n\",\n",
      "    \"for i in Li:\\n\",\n",
      "    \"       s+=(i-(i%100)*100-(i%10)*10)\\n\",\n",
      "    \"print(s)\\n\"\n",
      "   ]\n",
      "  },\n",
      "  {\n",
      "   \"cell_type\": \"code\",\n",
      "   \"execution_count\": 2,\n",
      "   \"metadata\": {},\n",
      "   \"outputs\": [\n",
      "    {\n",
      "     \"data\": {\n",
      "      \"text/plain\": [\n",
      "       \"40\"\n",
      "      ]\n",
      "     },\n",
      "     \"execution_count\": 2,\n",
      "     \"metadata\": {},\n",
      "     \"output_type\": \"execute_result\"\n",
      "    }\n",
      "   ],\n",
      "   \"source\": [\n",
      "    \"9+4+7+9+2+7+2\"\n",
      "   ]\n",
      "  },\n",
      "  {\n",
      "   \"cell_type\": \"code\",\n",
      "   \"execution_count\": 3,\n",
      "   \"metadata\": {},\n",
      "   \"outputs\": [\n",
      "    {\n",
      "     \"name\": \"stdout\",\n",
      "     \"output_type\": \"stream\",\n",
      "     \"text\": [\n",
      "      \"893 541 672 190 720 178 423\\n\"\n",
      "     ]\n",
      "    },\n",
      "    {\n",
      "     \"data\": {\n",
      "      \"text/plain\": [\n",
      "       \"40\"\n",
      "      ]\n",
      "     },\n",
      "     \"execution_count\": 3,\n",
      "     \"metadata\": {},\n",
      "     \"output_type\": \"execute_result\"\n",
      "    }\n",
      "   ],\n",
      "   \"source\": [\n",
      "    \"li=[]\\n\",\n",
      "    \"nums=input().split()\\n\",\n",
      "    \"for ch in nums:\\n\",\n",
      "    \"    li.append(int(ch[1]))\\n\",\n",
      "    \"sum(li)\\n\"\n",
      "   ]\n",
      "  },\n",
      "  {\n",
      "   \"cell_type\": \"code\",\n",
      "   \"execution_count\": null,\n",
      "   \"metadata\": {},\n",
      "   \"outputs\": [],\n",
      "   \"source\": []\n",
      "  }\n",
      " ],\n",
      " \"metadata\": {\n",
      "  \"kernelspec\": {\n",
      "   \"display_name\": \"Python 3\",\n",
      "   \"language\": \"python\",\n",
      "   \"name\": \"python3\"\n",
      "  },\n",
      "  \"language_info\": {\n",
      "   \"codemirror_mode\": {\n",
      "    \"name\": \"ipython\",\n",
      "    \"version\": 3\n",
      "   },\n",
      "   \"file_extension\": \".py\",\n",
      "   \"mimetype\": \"text/x-python\",\n",
      "   \"name\": \"python\",\n",
      "   \"nbconvert_exporter\": \"python\",\n",
      "   \"pygments_lexer\": \"ipython3\",\n",
      "   \"version\": \"3.7.4\"\n",
      "  }\n",
      " },\n",
      " \"nbformat\": 4,\n",
      " \"nbformat_minor\": 4\n",
      "}\n",
      "\n"
     ]
    }
   ],
   "source": [
    "notes=open(\"practice.ipynb\",'r') # file,mode\n",
    "print(notes.read())"
   ]
  },
  {
   "cell_type": "code",
   "execution_count": 7,
   "metadata": {},
   "outputs": [
    {
     "name": "stdout",
     "output_type": "stream",
     "text": [
      "Hi I am Ruthu and working with files using Python\n"
     ]
    }
   ],
   "source": [
    "with open(\"first.txt\",\"r\") as text:\n",
    "    print(text.read())"
   ]
  },
  {
   "cell_type": "code",
   "execution_count": 10,
   "metadata": {},
   "outputs": [
    {
     "data": {
      "text/plain": [
       "43"
      ]
     },
     "execution_count": 10,
     "metadata": {},
     "output_type": "execute_result"
    }
   ],
   "source": [
    "new=open(\"first.txt\",'w')\n",
    "new.write(\"I am adding new data\\nusing wirte operation.\")"
   ]
  },
  {
   "cell_type": "code",
   "execution_count": 12,
   "metadata": {},
   "outputs": [
    {
     "name": "stdout",
     "output_type": "stream",
     "text": [
      "I am adding new data\n",
      "using wirte operation.\n"
     ]
    }
   ],
   "source": [
    "with open(\"first.txt\",\"r\") as read:\n",
    "    print(read.read())"
   ]
  },
  {
   "cell_type": "code",
   "execution_count": 13,
   "metadata": {},
   "outputs": [],
   "source": [
    "ap=open(\"first.txt\",'a')\n",
    "ap.write(\"\\nWriting content into the file using append mode\") # \n",
    "ap.close()"
   ]
  },
  {
   "cell_type": "markdown",
   "metadata": {},
   "source": [
    "#### write a python program to count the no.of lines,no.of words and no.of characters in the file"
   ]
  },
  {
   "cell_type": "code",
   "execution_count": 15,
   "metadata": {
    "collapsed": true
   },
   "outputs": [
    {
     "ename": "TypeError",
     "evalue": "object of type '_io.TextIOWrapper' has no len()",
     "output_type": "error",
     "traceback": [
      "\u001b[1;31m---------------------------------------------------------------------------\u001b[0m",
      "\u001b[1;31mTypeError\u001b[0m                                 Traceback (most recent call last)",
      "\u001b[1;32m<ipython-input-15-3f29a9c07c73>\u001b[0m in \u001b[0;36m<module>\u001b[1;34m\u001b[0m\n\u001b[1;32m----> 1\u001b[1;33m \u001b[0mlen\u001b[0m\u001b[1;33m(\u001b[0m\u001b[0map\u001b[0m\u001b[1;33m)\u001b[0m\u001b[1;33m\u001b[0m\u001b[1;33m\u001b[0m\u001b[0m\n\u001b[0m",
      "\u001b[1;31mTypeError\u001b[0m: object of type '_io.TextIOWrapper' has no len()"
     ]
    }
   ],
   "source": [
    "len(ap)"
   ]
  },
  {
   "cell_type": "code",
   "execution_count": 16,
   "metadata": {},
   "outputs": [
    {
     "data": {
      "text/plain": [
       "6"
      ]
     },
     "execution_count": 16,
     "metadata": {},
     "output_type": "execute_result"
    }
   ],
   "source": [
    "li=[7,6,8,12,14,56]\n",
    "len(li)"
   ]
  },
  {
   "cell_type": "code",
   "execution_count": 26,
   "metadata": {},
   "outputs": [
    {
     "name": "stdout",
     "output_type": "stream",
     "text": [
      "I   a m   a d d i n g   n e w   d a t a @ \n",
      " $ u s i n g   w i r t e   # o p e r a t i o n . \n",
      " # W r i t i n g   $ c o n t e n t   i n t o   ! t h e   f i l e   u s i n g   a p p e n d   m o d e   . "
     ]
    }
   ],
   "source": [
    "data=open(\"first.txt\",'r')\n",
    "st=data.read()\n",
    "for ele in st:\n",
    "    print(ele,end=\" \")"
   ]
  },
  {
   "cell_type": "code",
   "execution_count": 22,
   "metadata": {},
   "outputs": [
    {
     "data": {
      "text/plain": [
       "_io.TextIOWrapper"
      ]
     },
     "execution_count": 22,
     "metadata": {},
     "output_type": "execute_result"
    }
   ],
   "source": [
    "type(data)"
   ]
  },
  {
   "cell_type": "code",
   "execution_count": 23,
   "metadata": {},
   "outputs": [
    {
     "data": {
      "text/plain": [
       "str"
      ]
     },
     "execution_count": 23,
     "metadata": {},
     "output_type": "execute_result"
    }
   ],
   "source": [
    "type(st)"
   ]
  },
  {
   "cell_type": "markdown",
   "metadata": {},
   "source": [
    "#### readlines()\n",
    "- The file will be converted into the list of data\n",
    "- **Syntax**\n",
    "    - file.readlines()"
   ]
  },
  {
   "cell_type": "code",
   "execution_count": 37,
   "metadata": {},
   "outputs": [
    {
     "name": "stdout",
     "output_type": "stream",
     "text": [
      "No.of lines= 3\n",
      "['I am adding new data@\\n', '$using wirte #operation.\\n', '#Writing $content into !the file using append mode .']\n",
      "['I am adding new data@\\n', '$using wirte #operation.\\n', '#Writing $content into !the file using append mode .', 'New data']\n"
     ]
    }
   ],
   "source": [
    "with open(\"first.txt\",\"r\") as p:\n",
    "    li=p.readlines() # list of lines\n",
    "    count=0\n",
    "    for line in li:\n",
    "        count+=1\n",
    "print(\"No.of lines=\",count)\n",
    "print(li)\n",
    "li.append(\"New data\")\n",
    "print(li)\n",
    "# count the special characters existed file"
   ]
  },
  {
   "cell_type": "code",
   "execution_count": 47,
   "metadata": {},
   "outputs": [
    {
     "name": "stdout",
     "output_type": "stream",
     "text": [
      "@ $ # . # $ ! . \n",
      "No.of special characters: 8\n"
     ]
    }
   ],
   "source": [
    "ch_c=0\n",
    "for line in li:\n",
    "    for ch in line:\n",
    "        if ch.isalpha() or ch.isspace():\n",
    "            continue\n",
    "        ch_c+=1\n",
    "        print(ch,end=\" \")\n",
    "print()\n",
    "print(\"No.of special characters:\",ch_c)"
   ]
  },
  {
   "cell_type": "code",
   "execution_count": 44,
   "metadata": {},
   "outputs": [],
   "source": [
    "# write a python program to count the no.of words,lines,alphabets and special characters \n",
    "# in a file"
   ]
  },
  {
   "cell_type": "markdown",
   "metadata": {},
   "source": [
    "#### Comprehensions in Python\n",
    "- It's like short description\n",
    "- Reducing the no.of LOC \n",
    "- Shortening the program\n",
    "- 2 types of comprehensions\n",
    "    1. List and \n",
    "    2. Dictionary Comprehension\n",
    "- **Syntax**\n",
    "    - [output input sequence condition_check]\n",
    "    - {output input sequence condition check}"
   ]
  },
  {
   "cell_type": "code",
   "execution_count": 50,
   "metadata": {},
   "outputs": [
    {
     "name": "stdout",
     "output_type": "stream",
     "text": [
      "[1, 4, 9, 16, 25]\n"
     ]
    }
   ],
   "source": [
    "# write a python program to store a list of square values of numbers present in a range\n",
    "numbers=[1,2,3,4,5]\n",
    "\n",
    "squared_numbers=[number ** 2 for number in numbers]\n",
    "\n",
    "print(squared_numbers)"
   ]
  },
  {
   "cell_type": "code",
   "execution_count": 51,
   "metadata": {},
   "outputs": [
    {
     "name": "stdout",
     "output_type": "stream",
     "text": [
      "13\n",
      "20\n",
      "[169, 196, 225, 256, 289, 324, 361, 400]\n"
     ]
    }
   ],
   "source": [
    "sq=[]\n",
    "for num in range(int(input()),int(input())+1):\n",
    "    sq.append(num**2)\n",
    "#print(sq)\n",
    "for num in sq:\n",
    "    print(num)"
   ]
  },
  {
   "cell_type": "code",
   "execution_count": 53,
   "metadata": {},
   "outputs": [
    {
     "name": "stdout",
     "output_type": "stream",
     "text": [
      "10\n",
      "20\n"
     ]
    },
    {
     "data": {
      "text/plain": [
       "[100, 121, 144, 169, 196, 225, 256, 289, 324, 361, 400]"
      ]
     },
     "execution_count": 53,
     "metadata": {},
     "output_type": "execute_result"
    }
   ],
   "source": [
    "sqs=[num**2 for num in range(int(input()),int(input())+1)]\n",
    "sqs"
   ]
  },
  {
   "cell_type": "code",
   "execution_count": 54,
   "metadata": {},
   "outputs": [
    {
     "name": "stdout",
     "output_type": "stream",
     "text": [
      "987 456 2345 09876 4567 312345\n",
      "['456', '09876']\n"
     ]
    }
   ],
   "source": [
    "# read space separated values from user and make a list of evens no.s in it\n",
    "nums=input().split()\n",
    "evens=[]\n",
    "for num in nums:\n",
    "    if int(num)%2==0:\n",
    "        evens.append(num)\n",
    "print(evens)"
   ]
  },
  {
   "cell_type": "code",
   "execution_count": 55,
   "metadata": {},
   "outputs": [
    {
     "name": "stdout",
     "output_type": "stream",
     "text": [
      "98 4567 3456 0987 567 12345 09876\n",
      "98\n",
      "3456\n",
      "09876\n"
     ]
    }
   ],
   "source": [
    "# by using list comprehension\n",
    "en=[print(num) for num in input().split() if int(num)%2==0]"
   ]
  },
  {
   "cell_type": "code",
   "execution_count": 56,
   "metadata": {},
   "outputs": [
    {
     "name": "stdout",
     "output_type": "stream",
     "text": [
      "Enter a sentence:Hi I am Ruthu from APSSDC\n"
     ]
    },
    {
     "data": {
      "text/plain": [
       "['i', 'I', 'a', 'm', 'u', 'u', 'o', 'm', 'A', 'S', 'S', 'C']"
      ]
     },
     "execution_count": 56,
     "metadata": {},
     "output_type": "execute_result"
    }
   ],
   "source": [
    "# read a sentence from the user and make a list of char whose ascii values is odd\n",
    "odds=[ch for ch in input(\"Enter a sentence:\") if ord(ch)%2==1]\n",
    "odds"
   ]
  },
  {
   "cell_type": "code",
   "execution_count": 58,
   "metadata": {},
   "outputs": [
    {
     "data": {
      "text/plain": [
       "65"
      ]
     },
     "execution_count": 58,
     "metadata": {},
     "output_type": "execute_result"
    }
   ],
   "source": [
    "ord(\"A\")"
   ]
  },
  {
   "cell_type": "code",
   "execution_count": 59,
   "metadata": {},
   "outputs": [
    {
     "data": {
      "text/plain": [
       "111"
      ]
     },
     "execution_count": 59,
     "metadata": {},
     "output_type": "execute_result"
    }
   ],
   "source": [
    "ord('o')"
   ]
  },
  {
   "cell_type": "markdown",
   "metadata": {},
   "source": [
    "#### Dictionary Comprehension"
   ]
  },
  {
   "cell_type": "code",
   "execution_count": 60,
   "metadata": {},
   "outputs": [
    {
     "name": "stdout",
     "output_type": "stream",
     "text": [
      "{1: 1, 2: 8, 3: 27, 4: 64, 5: 125, 6: 216, 7: 343, 8: 512, 9: 729, 10: 1000, 11: 1331, 12: 1728, 13: 2197, 14: 2744}\n"
     ]
    }
   ],
   "source": [
    "# make a dictionary cubic values of numbers present in a range\n",
    "dic={}\n",
    "for num in range(1,15):\n",
    "    dic[num]=num**3\n",
    "print(dic)"
   ]
  },
  {
   "cell_type": "code",
   "execution_count": 63,
   "metadata": {},
   "outputs": [
    {
     "name": "stdout",
     "output_type": "stream",
     "text": [
      "{1: 1, 2: 8, 3: 27, 4: 64, 5: 125, 6: 216, 7: 343, 8: 512, 9: 729, 10: 1000, 11: 1331, 12: 1728, 13: 2197, 14: 2744}\n"
     ]
    }
   ],
   "source": [
    "# dictionary comprehension\n",
    "dc={num:num**3 for num in range(1,15)}\n",
    "print(dc)"
   ]
  },
  {
   "cell_type": "code",
   "execution_count": 65,
   "metadata": {
    "collapsed": true
   },
   "outputs": [
    {
     "name": "stdout",
     "output_type": "stream",
     "text": [
      "Enter the number:9\n",
      "9 x 1 = 9\n",
      "9 x 2 = 18\n",
      "9 x 3 = 27\n",
      "9 x 4 = 36\n",
      "9 x 5 = 45\n",
      "9 x 6 = 54\n",
      "9 x 7 = 63\n",
      "9 x 8 = 72\n",
      "9 x 9 = 81\n",
      "9 x 10 = 90\n"
     ]
    }
   ],
   "source": [
    "# print the multiplication table using list comprehension\n",
    "n=int(input(\"Enter the number:\"))\n",
    "for num in range(1,11):\n",
    "    print(n,\"x\",num,\"=\",n*num)"
   ]
  },
  {
   "cell_type": "code",
   "execution_count": 67,
   "metadata": {
    "collapsed": true
   },
   "outputs": [
    {
     "name": "stdout",
     "output_type": "stream",
     "text": [
      "9\n",
      "9 x 1 = 9\n",
      "9\n",
      "9 x 2 = 18\n",
      "10\n",
      "10 x 3 = 27\n",
      "40\n",
      "40 x 4 = 36\n",
      "8\n",
      "8 x 5 = 45\n",
      "14\n",
      "14 x 6 = 54\n",
      "8\n",
      "8 x 7 = 63\n",
      "10\n",
      "10 x 8 = 72\n",
      "11\n",
      "11 x 9 = 81\n",
      "18\n",
      "18 x 10 = 90\n"
     ]
    }
   ],
   "source": [
    "mul=[print(int(input()),\"x\",num,\"=\",n*num) for num in range(1,11)]"
   ]
  },
  {
   "cell_type": "code",
   "execution_count": 68,
   "metadata": {
    "collapsed": true
   },
   "outputs": [
    {
     "name": "stdout",
     "output_type": "stream",
     "text": [
      "12 x 1 = 12\n",
      "12 x 2 = 24\n",
      "12 x 3 = 36\n",
      "12 x 4 = 48\n",
      "12 x 5 = 60\n",
      "12 x 6 = 72\n",
      "12 x 7 = 84\n",
      "12 x 8 = 96\n",
      "12 x 9 = 108\n",
      "12 x 10 = 120\n"
     ]
    }
   ],
   "source": [
    "m=[print(12,'x',num,'=',12*num) for num in range(1,11)]"
   ]
  },
  {
   "cell_type": "code",
   "execution_count": 71,
   "metadata": {
    "collapsed": true
   },
   "outputs": [
    {
     "name": "stdout",
     "output_type": "stream",
     "text": [
      "Enter the string:Hi I am Ruthu from apssdc\n"
     ]
    },
    {
     "data": {
      "text/plain": [
       "{'I': 73, 'a': 97, 'm': 109}"
      ]
     },
     "execution_count": 71,
     "metadata": {},
     "output_type": "execute_result"
    }
   ],
   "source": [
    "def is_prime(n):\n",
    "    count=0\n",
    "    for num in range(1,n//2):\n",
    "        if n%num==0:\n",
    "            count+=1\n",
    "    if count==1:\n",
    "        return True\n",
    "    else:return False\n",
    "    \n",
    "#is_prime(9)\n",
    "# make a dictionary of characters whose ascii values are prime\n",
    "prime_chars={ch:ord(ch) for ch in input(\"Enter the string:\") if is_prime(ord(ch))}\n",
    "prime_chars"
   ]
  },
  {
   "cell_type": "markdown",
   "metadata": {},
   "source": [
    "#### Functional Programming\n",
    "- Programming with functions\n",
    "    1. iterator()\n",
    "    2. generator()\n",
    "    3. map()\n",
    "    4. lambda() and\n",
    "    5. filter()"
   ]
  },
  {
   "cell_type": "markdown",
   "metadata": {},
   "source": [
    "##### iterator()\n",
    "- iter() and\n",
    "- next()\n",
    "    - incrementing functions\n",
    "    - user incrementation\n",
    "    - these discontinued by the user at any stage\n",
    "    - for doing multiple operations"
   ]
  },
  {
   "cell_type": "code",
   "execution_count": 76,
   "metadata": {},
   "outputs": [
    {
     "data": {
      "text/plain": [
       "[5, 6, 7, 8, 10]"
      ]
     },
     "execution_count": 76,
     "metadata": {},
     "output_type": "execute_result"
    }
   ],
   "source": [
    "# python program to add no. 5 to the each and every element in the list\n",
    "li=[5,6,7,8,10]\n",
    "for num in li:\n",
    "    num+=5 \n",
    "li\n",
    "    "
   ]
  },
  {
   "cell_type": "code",
   "execution_count": 77,
   "metadata": {},
   "outputs": [
    {
     "data": {
      "text/plain": [
       "(10, 11, 12, 13, 15)"
      ]
     },
     "execution_count": 77,
     "metadata": {},
     "output_type": "execute_result"
    }
   ],
   "source": [
    "10,11,12,13,15"
   ]
  },
  {
   "cell_type": "code",
   "execution_count": 78,
   "metadata": {},
   "outputs": [
    {
     "data": {
      "text/plain": [
       "[5, 6, 7, 8, 10]"
      ]
     },
     "execution_count": 78,
     "metadata": {},
     "output_type": "execute_result"
    }
   ],
   "source": [
    "li"
   ]
  },
  {
   "cell_type": "code",
   "execution_count": 80,
   "metadata": {},
   "outputs": [
    {
     "name": "stdout",
     "output_type": "stream",
     "text": [
      "10\n",
      "-4\n",
      "1.4\n",
      "18\n"
     ]
    }
   ],
   "source": [
    "it=iter(li) #initialized\n",
    "print(next(it)+5) # called the first value\n",
    "print(next(it)-10) # 2nd \n",
    "print(next(it)/5)\n",
    "print(next(it)+10)"
   ]
  },
  {
   "cell_type": "markdown",
   "metadata": {},
   "source": [
    "#### Generators\n",
    "- it is a function which yields the more values\n",
    "- def function_name(arguments):\n",
    "    - yield"
   ]
  },
  {
   "cell_type": "code",
   "execution_count": 96,
   "metadata": {},
   "outputs": [
    {
     "name": "stdout",
     "output_type": "stream",
     "text": [
      "1\n",
      "2\n"
     ]
    }
   ],
   "source": [
    "def generator(n):\n",
    "    yield 1\n",
    "    yield 2\n",
    "    yield 3\n",
    "    yield 4\n",
    "    yield 5\n",
    "    yield 6\n",
    "    \n",
    "\n",
    "g=generator(6)\n",
    "''' for num in g:\n",
    "    print(num) '''\n",
    "r=iter(g)\n",
    "print(next(r))\n",
    "print(next(r))"
   ]
  },
  {
   "cell_type": "code",
   "execution_count": 94,
   "metadata": {},
   "outputs": [
    {
     "name": "stdout",
     "output_type": "stream",
     "text": [
      "1\n",
      "2\n",
      "3\n",
      "4\n",
      "5\n"
     ]
    }
   ],
   "source": [
    "def generator2(n):\n",
    "    for num in range(1,n//2+1):\n",
    "        yield num\n",
    "        \n",
    "        \n",
    "g2=generator2(10)\n",
    "i=iter(g2)\n",
    "print(next(i))\n",
    "print(next(i))\n",
    "print(next(i))\n",
    "print(next(i))\n",
    "print(next(i))\n"
   ]
  },
  {
   "cell_type": "markdown",
   "metadata": {},
   "source": [
    "#### map()\n",
    "- It gives a list of results when  a function is applied on iterable\n",
    "- map(int,iterable)"
   ]
  },
  {
   "cell_type": "code",
   "execution_count": 97,
   "metadata": {},
   "outputs": [
    {
     "name": "stdout",
     "output_type": "stream",
     "text": [
      "890 657 234 109 876 367\n",
      "sum= 30\n"
     ]
    }
   ],
   "source": [
    "# space separated integers from user\n",
    "# sum of middle digts of numbers:890 657 234 109 876 367:9+5+3+0+7+6=30\n",
    "s=0\n",
    "for ch in input().split():\n",
    "    s+=int(ch[1])\n",
    "print(\"sum=\",s)"
   ]
  },
  {
   "cell_type": "code",
   "execution_count": 98,
   "metadata": {},
   "outputs": [
    {
     "name": "stdout",
     "output_type": "stream",
     "text": [
      "90 87 65\n",
      "<class 'int'>\n",
      "<class 'int'>\n",
      "<class 'int'>\n"
     ]
    }
   ],
   "source": [
    "nums=list(map(int,input().split()))\n",
    "for num in nums:\n",
    "    print(type(num))"
   ]
  },
  {
   "cell_type": "code",
   "execution_count": 99,
   "metadata": {},
   "outputs": [
    {
     "data": {
      "text/plain": [
       "5"
      ]
     },
     "execution_count": 99,
     "metadata": {},
     "output_type": "execute_result"
    }
   ],
   "source": [
    "def find_length(st):\n",
    "    return len(st)\n",
    "\n",
    "find_length(\"Ruthu\")"
   ]
  },
  {
   "cell_type": "code",
   "execution_count": 102,
   "metadata": {},
   "outputs": [
    {
     "name": "stdout",
     "output_type": "stream",
     "text": [
      "(5, 7, 7, 8)\n"
     ]
    }
   ],
   "source": [
    "# list of words\n",
    "names=['Ruthu','Vanitha','Nandini','Srikanya']\n",
    "t=tuple(map(find_length,names))\n",
    "print(t)"
   ]
  },
  {
   "cell_type": "markdown",
   "metadata": {},
   "source": [
    "####  lamabda\n",
    "- anynomus functions that means functions without name\n",
    "- works for simple logic \n",
    "- lambda expression:arguments"
   ]
  },
  {
   "cell_type": "code",
   "execution_count": 103,
   "metadata": {},
   "outputs": [
    {
     "data": {
      "text/plain": [
       "81"
      ]
     },
     "execution_count": 103,
     "metadata": {},
     "output_type": "execute_result"
    }
   ],
   "source": [
    "s=lambda num:num**2 # function definition\n",
    "s(9) # function call"
   ]
  },
  {
   "cell_type": "code",
   "execution_count": 106,
   "metadata": {},
   "outputs": [
    {
     "data": {
      "text/plain": [
       "729"
      ]
     },
     "execution_count": 106,
     "metadata": {},
     "output_type": "execute_result"
    }
   ],
   "source": [
    "cube=lambda n:n**3 # formal parameter\n",
    "cube(9)# actual value"
   ]
  },
  {
   "cell_type": "code",
   "execution_count": 107,
   "metadata": {
    "collapsed": true
   },
   "outputs": [
    {
     "name": "stdout",
     "output_type": "stream",
     "text": [
      "6\n",
      "12\n",
      "56\n",
      "24\n",
      "90\n"
     ]
    }
   ],
   "source": [
    "l=[9,45,6,12,39,87,56,51,24,90,53]\n",
    "for num in l:\n",
    "    if num%2==0:\n",
    "        print(num)"
   ]
  },
  {
   "cell_type": "code",
   "execution_count": 108,
   "metadata": {},
   "outputs": [
    {
     "data": {
      "text/plain": [
       "[1, 1, 0, 0, 1, 1, 0, 1, 0, 0, 1]"
      ]
     },
     "execution_count": 108,
     "metadata": {},
     "output_type": "execute_result"
    }
   ],
   "source": [
    "evens=list(map(lambda num:num%2,l))\n",
    "evens"
   ]
  },
  {
   "cell_type": "code",
   "execution_count": 110,
   "metadata": {},
   "outputs": [
    {
     "name": "stdout",
     "output_type": "stream",
     "text": [
      "[True, False, False, True, True, False, True, True, False]\n"
     ]
    }
   ],
   "source": [
    "num_li=[8,11,23,8,4,5,10,34,3]\n",
    "even_list=list(map(lambda num:num%2==0,num_li))\n",
    "print(even_list)"
   ]
  },
  {
   "cell_type": "markdown",
   "metadata": {},
   "source": [
    "#### filter\n",
    "- it gives the list of iterable(true/false) when a function applied on iterable"
   ]
  },
  {
   "cell_type": "code",
   "execution_count": 111,
   "metadata": {},
   "outputs": [
    {
     "name": "stdout",
     "output_type": "stream",
     "text": [
      "90 98 73 14 15 63 14 50\n",
      "90 98 14 14 50 "
     ]
    }
   ],
   "source": [
    "li=list(map(int,input().split())) # integers\n",
    "flt_list=filter(lambda x:x%2==0,li)\n",
    "for num in flt_list:\n",
    "    print(num,end=\" \")"
   ]
  },
  {
   "cell_type": "code",
   "execution_count": 115,
   "metadata": {},
   "outputs": [
    {
     "data": {
      "text/plain": [
       "True"
      ]
     },
     "execution_count": 115,
     "metadata": {},
     "output_type": "execute_result"
    }
   ],
   "source": [
    "def vowels(st):\n",
    "    v=\"AEIOUaeiou\"\n",
    "    for ch in v:\n",
    "        if ch in st:\n",
    "            return True\n",
    "        else:return False\n",
    "        \n",
    "        \n",
    "vowels(\"Ruthu from APSSDC\")"
   ]
  },
  {
   "cell_type": "code",
   "execution_count": 118,
   "metadata": {
    "collapsed": true
   },
   "outputs": [
    {
     "name": "stdout",
     "output_type": "stream",
     "text": [
      "Enter the stringHi I am RUTHU FROM ASDdc\n",
      "i\n",
      "I\n",
      "a\n",
      "U\n",
      "U\n",
      "O\n",
      "A\n"
     ]
    }
   ],
   "source": [
    "def filter_vowels(ch):\n",
    "    v=('a','e','i','o','u','A','E','I','O','U')\n",
    "    if ch in v:\n",
    "        return True\n",
    "    else:\n",
    "        return False\n",
    "    \n",
    "st=input(\"Enter the string\")\n",
    "vowels=filter(filter_vowels,st)\n",
    "for vowel in vowels:\n",
    "    print(vowel)"
   ]
  },
  {
   "cell_type": "code",
   "execution_count": 119,
   "metadata": {
    "collapsed": true
   },
   "outputs": [
    {
     "name": "stdout",
     "output_type": "stream",
     "text": [
      "Enter the stringHI iam RUThu from APSDC\n",
      "False\n",
      "True\n",
      "False\n",
      "True\n",
      "True\n",
      "False\n",
      "False\n",
      "False\n",
      "True\n",
      "False\n",
      "False\n",
      "True\n",
      "False\n",
      "False\n",
      "False\n",
      "True\n",
      "False\n",
      "False\n",
      "True\n",
      "False\n",
      "False\n",
      "False\n",
      "False\n"
     ]
    }
   ],
   "source": [
    "def filter_vowels(ch):\n",
    "    v=('a','e','i','o','u','A','E','I','O','U')\n",
    "    if ch in v:\n",
    "        return True\n",
    "    else:\n",
    "        return False\n",
    "    \n",
    "st=input(\"Enter the string\")\n",
    "vowels=map(filter_vowels,st)\n",
    "for vowel in vowels:\n",
    "    print(vowel)"
   ]
  },
  {
   "cell_type": "code",
   "execution_count": null,
   "metadata": {},
   "outputs": [],
   "source": []
  }
 ],
 "metadata": {
  "kernelspec": {
   "display_name": "Python 3",
   "language": "python",
   "name": "python3"
  },
  "language_info": {
   "codemirror_mode": {
    "name": "ipython",
    "version": 3
   },
   "file_extension": ".py",
   "mimetype": "text/x-python",
   "name": "python",
   "nbconvert_exporter": "python",
   "pygments_lexer": "ipython3",
   "version": "3.7.4"
  }
 },
 "nbformat": 4,
 "nbformat_minor": 2
}
