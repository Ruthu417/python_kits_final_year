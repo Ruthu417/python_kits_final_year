{
 "cells": [
  {
   "cell_type": "markdown",
   "metadata": {},
   "source": [
    "### Break and Continue pass\n",
    "- Flow control statements"
   ]
  },
  {
   "cell_type": "code",
   "execution_count": 1,
   "metadata": {
    "collapsed": true
   },
   "outputs": [
    {
     "name": "stdout",
     "output_type": "stream",
     "text": [
      "1\n",
      "2\n",
      "3\n"
     ]
    }
   ],
   "source": [
    "# looping circular motion\n",
    "# 1 to 20 # 20 \n",
    "print(1)\n",
    "print(2)\n",
    "print(3)"
   ]
  },
  {
   "cell_type": "code",
   "execution_count": 1,
   "metadata": {
    "collapsed": true
   },
   "outputs": [
    {
     "name": "stdout",
     "output_type": "stream",
     "text": [
      "20\n",
      "45\n",
      "20 21 22 23 23\n"
     ]
    }
   ],
   "source": [
    "lw,up=int(input()),int(input()) # that many iterations\n",
    "for num in range(lw,up+1): #20 and 45 :26 iterations \n",
    "    count=0\n",
    "    print(num,end=\" \")\n",
    "    for dig in range(1,num+1): # prime number:loop break \n",
    "        if num%dig==0:\n",
    "            count+=1\n",
    "    if count==2:\n",
    "        print(num) # 4 iterations:at 4th \n",
    "        break # break"
   ]
  },
  {
   "cell_type": "code",
   "execution_count": 4,
   "metadata": {
    "collapsed": true
   },
   "outputs": [
    {
     "name": "stdout",
     "output_type": "stream",
     "text": [
      "1 3 5 7 9 11 13 15 17 19 21 23 25 27 29 31 33 35 37 39 41 43 45 47 49 "
     ]
    }
   ],
   "source": [
    "# print the odd no.s present in the range using even logic\n",
    "for num in range(1,50):\n",
    "    if num%2 is 0:\n",
    "        continue # \n",
    "    print(num,end=\" \")"
   ]
  },
  {
   "cell_type": "code",
   "execution_count": 5,
   "metadata": {},
   "outputs": [],
   "source": [
    "# type casting/conversion\n",
    "# implicit and explicit"
   ]
  },
  {
   "cell_type": "markdown",
   "metadata": {},
   "source": [
    "### strings\n",
    "- A string is a collection/group/set of characters\n",
    "- A single char is also a string\n",
    "- it is a data type\n",
    "- \"\"/'' to store a string\n",
    "- 'a' and \"word\""
   ]
  },
  {
   "cell_type": "code",
   "execution_count": 6,
   "metadata": {},
   "outputs": [
    {
     "data": {
      "text/plain": [
       "str"
      ]
     },
     "execution_count": 6,
     "metadata": {},
     "output_type": "execute_result"
    }
   ],
   "source": [
    "name=\"Ruthu\"\n",
    "type(name) \n",
    "# name is a variable and \"Ruthu\" value/data"
   ]
  },
  {
   "cell_type": "code",
   "execution_count": 7,
   "metadata": {},
   "outputs": [
    {
     "data": {
      "text/plain": [
       "int"
      ]
     },
     "execution_count": 7,
     "metadata": {},
     "output_type": "execute_result"
    }
   ],
   "source": [
    "type(98765456)"
   ]
  },
  {
   "cell_type": "code",
   "execution_count": 8,
   "metadata": {},
   "outputs": [
    {
     "data": {
      "text/plain": [
       "str"
      ]
     },
     "execution_count": 8,
     "metadata": {},
     "output_type": "execute_result"
    }
   ],
   "source": [
    "type('u')"
   ]
  },
  {
   "cell_type": "code",
   "execution_count": 9,
   "metadata": {},
   "outputs": [
    {
     "data": {
      "text/plain": [
       "str"
      ]
     },
     "execution_count": 9,
     "metadata": {},
     "output_type": "execute_result"
    }
   ],
   "source": [
    "type(\"ytuiopiuytretyui\")"
   ]
  },
  {
   "cell_type": "markdown",
   "metadata": {},
   "source": [
    "#### Working with Strings\n",
    "- The data in the realworld may exists in different formats\n",
    "- Personal Info:\n",
    "    - Name,Mobile number,ID,Contact Address\n",
    "        - Name:alphabetical\n",
    "        - Mobile:Numeric\n",
    "        - Id: Alphanumeric\n",
    "        - Contact Address: Combination of all chars"
   ]
  },
  {
   "cell_type": "code",
   "execution_count": 6,
   "metadata": {},
   "outputs": [
    {
     "name": "stdout",
     "output_type": "stream",
     "text": [
      "I am the student of  KKR & KSR Institute of Technology\n"
     ]
    }
   ],
   "source": [
    "college=\"KKR & KSR Institute of Technology\"\n",
    "print(\"I am the student of \",college)"
   ]
  },
  {
   "cell_type": "code",
   "execution_count": 17,
   "metadata": {},
   "outputs": [
    {
     "name": "stdout",
     "output_type": "stream",
     "text": [
      "IIIT-Nuzvid\n",
      "I am the student of  IIIT-Nuzvid\n"
     ]
    }
   ],
   "source": [
    "clg=input() # read the str type of data\n",
    "print(\"I am the student of \",clg)"
   ]
  },
  {
   "cell_type": "code",
   "execution_count": 5,
   "metadata": {},
   "outputs": [
    {
     "ename": "NameError",
     "evalue": "name 'college' is not defined",
     "output_type": "error",
     "traceback": [
      "\u001b[1;31m---------------------------------------------------------------------------\u001b[0m",
      "\u001b[1;31mNameError\u001b[0m                                 Traceback (most recent call last)",
      "\u001b[1;32m<ipython-input-5-5307d552b10c>\u001b[0m in \u001b[0;36m<module>\u001b[1;34m\u001b[0m\n\u001b[0;32m      1\u001b[0m \u001b[1;31m# Accessing the data in College\u001b[0m\u001b[1;33m\u001b[0m\u001b[1;33m\u001b[0m\u001b[1;33m\u001b[0m\u001b[0m\n\u001b[1;32m----> 2\u001b[1;33m \u001b[0mcollege\u001b[0m\u001b[1;33m\u001b[0m\u001b[1;33m\u001b[0m\u001b[0m\n\u001b[0m",
      "\u001b[1;31mNameError\u001b[0m: name 'college' is not defined"
     ]
    }
   ],
   "source": [
    "# Accessing the data in College\n",
    "college"
   ]
  },
  {
   "cell_type": "markdown",
   "metadata": {},
   "source": [
    "#### Representation of String in memory"
   ]
  },
  {
   "cell_type": "code",
   "execution_count": 22,
   "metadata": {},
   "outputs": [
    {
     "data": {
      "text/plain": [
       "33"
      ]
     },
     "execution_count": 22,
     "metadata": {},
     "output_type": "execute_result"
    }
   ],
   "source": [
    "len(college) # "
   ]
  },
  {
   "cell_type": "code",
   "execution_count": 20,
   "metadata": {},
   "outputs": [
    {
     "data": {
      "text/plain": [
       "1399877726640"
      ]
     },
     "execution_count": 20,
     "metadata": {},
     "output_type": "execute_result"
    }
   ],
   "source": [
    "id(college) # memory location "
   ]
  },
  {
   "cell_type": "code",
   "execution_count": 23,
   "metadata": {},
   "outputs": [
    {
     "data": {
      "text/plain": [
       "' '"
      ]
     },
     "execution_count": 23,
     "metadata": {},
     "output_type": "execute_result"
    }
   ],
   "source": [
    "college[3] # 33 indices:starts from 0 and upto 32"
   ]
  },
  {
   "cell_type": "code",
   "execution_count": 24,
   "metadata": {},
   "outputs": [
    {
     "data": {
      "text/plain": [
       "'&'"
      ]
     },
     "execution_count": 24,
     "metadata": {},
     "output_type": "execute_result"
    }
   ],
   "source": [
    "college[4]"
   ]
  },
  {
   "cell_type": "code",
   "execution_count": 25,
   "metadata": {},
   "outputs": [
    {
     "data": {
      "text/plain": [
       "'K'"
      ]
     },
     "execution_count": 25,
     "metadata": {},
     "output_type": "execute_result"
    }
   ],
   "source": [
    "college[0] # iterable[index]"
   ]
  },
  {
   "cell_type": "code",
   "execution_count": 26,
   "metadata": {},
   "outputs": [
    {
     "data": {
      "text/plain": [
       "'e'"
      ]
     },
     "execution_count": 26,
     "metadata": {},
     "output_type": "execute_result"
    }
   ],
   "source": [
    "college[18]"
   ]
  },
  {
   "cell_type": "code",
   "execution_count": 27,
   "metadata": {},
   "outputs": [
    {
     "data": {
      "text/plain": [
       "'y'"
      ]
     },
     "execution_count": 27,
     "metadata": {},
     "output_type": "execute_result"
    }
   ],
   "source": [
    "# \n",
    "college[-1]"
   ]
  },
  {
   "cell_type": "code",
   "execution_count": 28,
   "metadata": {},
   "outputs": [
    {
     "data": {
      "text/plain": [
       "'KKR & KSR Institute of Technology'"
      ]
     },
     "execution_count": 28,
     "metadata": {},
     "output_type": "execute_result"
    }
   ],
   "source": [
    "college"
   ]
  },
  {
   "cell_type": "code",
   "execution_count": 29,
   "metadata": {},
   "outputs": [
    {
     "data": {
      "text/plain": [
       "'g'"
      ]
     },
     "execution_count": 29,
     "metadata": {},
     "output_type": "execute_result"
    }
   ],
   "source": [
    "college[-2]"
   ]
  },
  {
   "cell_type": "markdown",
   "metadata": {},
   "source": [
    "#### index\n",
    "- it is of 2 types\n",
    "    - +ve(forward) and -ve(backward)\n",
    "        - starts from 0 and goes upto (len(it)-1)\n",
    "        - left to right\n",
    "    - ve index\n",
    "        - starts from -1 to -inifinite\n",
    "        - traverse from right to left"
   ]
  },
  {
   "cell_type": "code",
   "execution_count": 30,
   "metadata": {},
   "outputs": [
    {
     "data": {
      "text/plain": [
       "'o'"
      ]
     },
     "execution_count": 30,
     "metadata": {},
     "output_type": "execute_result"
    }
   ],
   "source": [
    "college[-5] # 6th char from last"
   ]
  },
  {
   "cell_type": "code",
   "execution_count": 31,
   "metadata": {},
   "outputs": [
    {
     "data": {
      "text/plain": [
       "'KKR & KSR Institute of Technology'"
      ]
     },
     "execution_count": 31,
     "metadata": {},
     "output_type": "execute_result"
    }
   ],
   "source": [
    "college[:] # entire string"
   ]
  },
  {
   "cell_type": "code",
   "execution_count": 32,
   "metadata": {},
   "outputs": [
    {
     "data": {
      "text/plain": [
       "'KKR & KSR Institute of Technology'"
      ]
     },
     "execution_count": 32,
     "metadata": {},
     "output_type": "execute_result"
    }
   ],
   "source": [
    "college[::]"
   ]
  },
  {
   "cell_type": "code",
   "execution_count": 33,
   "metadata": {},
   "outputs": [
    {
     "data": {
      "text/plain": [
       "'ygolonhceT fo etutitsnI RSK & RKK'"
      ]
     },
     "execution_count": 33,
     "metadata": {},
     "output_type": "execute_result"
    }
   ],
   "source": [
    "college[::-1] # reversing order of string"
   ]
  },
  {
   "cell_type": "code",
   "execution_count": 34,
   "metadata": {},
   "outputs": [
    {
     "data": {
      "text/plain": [
       "'KR&KRIsiueo ehooy'"
      ]
     },
     "execution_count": 34,
     "metadata": {},
     "output_type": "execute_result"
    }
   ],
   "source": [
    "# skip \n",
    "college[::2] # 3rd argument which is the step count"
   ]
  },
  {
   "cell_type": "code",
   "execution_count": 35,
   "metadata": {},
   "outputs": [
    {
     "data": {
      "text/plain": [
       "'yoohe oeuisIRK&RK'"
      ]
     },
     "execution_count": 35,
     "metadata": {},
     "output_type": "execute_result"
    }
   ],
   "source": [
    "# alternate chars present in reverse order\n",
    "college[::-2]"
   ]
  },
  {
   "cell_type": "code",
   "execution_count": 39,
   "metadata": {},
   "outputs": [
    {
     "name": "stdout",
     "output_type": "stream",
     "text": [
      "K K R   &   K S R   I n s t i t u t e   o f   T e c h n o l o g y "
     ]
    }
   ],
   "source": [
    "for ch in college: # for iterator in iterable\n",
    "    print(ch,end=\" \")"
   ]
  },
  {
   "cell_type": "code",
   "execution_count": 38,
   "metadata": {},
   "outputs": [
    {
     "name": "stdout",
     "output_type": "stream",
     "text": [
      "1 2 3 4 5 6 7 8 9 10 "
     ]
    }
   ],
   "source": [
    "for num in range(1,11):\n",
    "    print(num,end=\" \")"
   ]
  },
  {
   "cell_type": "code",
   "execution_count": 41,
   "metadata": {},
   "outputs": [
    {
     "name": "stdout",
     "output_type": "stream",
     "text": [
      "K K R   &   K S R   I n s t i t u t e   o f   T e c h n o l o g y "
     ]
    }
   ],
   "source": [
    "for index in range(len(college)):\n",
    "    print(college[index],end=\" \")"
   ]
  },
  {
   "cell_type": "markdown",
   "metadata": {},
   "source": [
    "#### String methods\n",
    "- Method can apply on strings only\n",
    "- strings are immutable in nature\n",
    "- capitalize()\n",
    "    - capitalize the first ch or string\n",
    "- center()\n",
    "    - we will put string in center\n",
    "- strip()\n",
    "    - removes the spaces\n",
    "- lstrip()\n",
    "- rstrip()\n",
    "- split()\n",
    "    - separate the spaces "
   ]
  },
  {
   "cell_type": "code",
   "execution_count": 42,
   "metadata": {
    "collapsed": true
   },
   "outputs": [
    {
     "data": {
      "text/plain": [
       "['__add__',\n",
       " '__class__',\n",
       " '__contains__',\n",
       " '__delattr__',\n",
       " '__dir__',\n",
       " '__doc__',\n",
       " '__eq__',\n",
       " '__format__',\n",
       " '__ge__',\n",
       " '__getattribute__',\n",
       " '__getitem__',\n",
       " '__getnewargs__',\n",
       " '__gt__',\n",
       " '__hash__',\n",
       " '__init__',\n",
       " '__init_subclass__',\n",
       " '__iter__',\n",
       " '__le__',\n",
       " '__len__',\n",
       " '__lt__',\n",
       " '__mod__',\n",
       " '__mul__',\n",
       " '__ne__',\n",
       " '__new__',\n",
       " '__reduce__',\n",
       " '__reduce_ex__',\n",
       " '__repr__',\n",
       " '__rmod__',\n",
       " '__rmul__',\n",
       " '__setattr__',\n",
       " '__sizeof__',\n",
       " '__str__',\n",
       " '__subclasshook__',\n",
       " 'capitalize',\n",
       " 'casefold',\n",
       " 'center',\n",
       " 'count',\n",
       " 'encode',\n",
       " 'endswith',\n",
       " 'expandtabs',\n",
       " 'find',\n",
       " 'format',\n",
       " 'format_map',\n",
       " 'index',\n",
       " 'isalnum',\n",
       " 'isalpha',\n",
       " 'isascii',\n",
       " 'isdecimal',\n",
       " 'isdigit',\n",
       " 'isidentifier',\n",
       " 'islower',\n",
       " 'isnumeric',\n",
       " 'isprintable',\n",
       " 'isspace',\n",
       " 'istitle',\n",
       " 'isupper',\n",
       " 'join',\n",
       " 'ljust',\n",
       " 'lower',\n",
       " 'lstrip',\n",
       " 'maketrans',\n",
       " 'partition',\n",
       " 'replace',\n",
       " 'rfind',\n",
       " 'rindex',\n",
       " 'rjust',\n",
       " 'rpartition',\n",
       " 'rsplit',\n",
       " 'rstrip',\n",
       " 'split',\n",
       " 'splitlines',\n",
       " 'startswith',\n",
       " 'strip',\n",
       " 'swapcase',\n",
       " 'title',\n",
       " 'translate',\n",
       " 'upper',\n",
       " 'zfill']"
      ]
     },
     "execution_count": 42,
     "metadata": {},
     "output_type": "execute_result"
    }
   ],
   "source": [
    "dir(str)"
   ]
  },
  {
   "cell_type": "code",
   "execution_count": 45,
   "metadata": {},
   "outputs": [
    {
     "data": {
      "text/plain": [
       "'Kkr & ksr institute of technology'"
      ]
     },
     "execution_count": 45,
     "metadata": {},
     "output_type": "execute_result"
    }
   ],
   "source": [
    "college.capitalize()"
   ]
  },
  {
   "cell_type": "code",
   "execution_count": 46,
   "metadata": {},
   "outputs": [
    {
     "data": {
      "text/plain": [
       "'KKR & KSR Institute of Technology'"
      ]
     },
     "execution_count": 46,
     "metadata": {},
     "output_type": "execute_result"
    }
   ],
   "source": [
    "college"
   ]
  },
  {
   "cell_type": "code",
   "execution_count": 47,
   "metadata": {},
   "outputs": [
    {
     "data": {
      "text/plain": [
       "'kkr & ksr institute of technology'"
      ]
     },
     "execution_count": 47,
     "metadata": {},
     "output_type": "execute_result"
    }
   ],
   "source": [
    "college.casefold() # lowecase letters"
   ]
  },
  {
   "cell_type": "code",
   "execution_count": 48,
   "metadata": {},
   "outputs": [
    {
     "data": {
      "text/plain": [
       "'kkr & ksr iNSTITUTE OF tECHNOLOGY'"
      ]
     },
     "execution_count": 48,
     "metadata": {},
     "output_type": "execute_result"
    }
   ],
   "source": [
    "college.swapcase() # converts the lower case alphabets into uppers"
   ]
  },
  {
   "cell_type": "code",
   "execution_count": 49,
   "metadata": {},
   "outputs": [
    {
     "data": {
      "text/plain": [
       "'I Am Ruthu From Apssdc'"
      ]
     },
     "execution_count": 49,
     "metadata": {},
     "output_type": "execute_result"
    }
   ],
   "source": [
    "\"i Am rUTHU FROM apssdc\".title() # "
   ]
  },
  {
   "cell_type": "code",
   "execution_count": 51,
   "metadata": {},
   "outputs": [
    {
     "data": {
      "text/plain": [
       "['I', 'Am', 'Ruthu', 'From', 'Apssdc']"
      ]
     },
     "execution_count": 51,
     "metadata": {},
     "output_type": "execute_result"
    }
   ],
   "source": [
    "sentence=\"I AM ruthu from apssdc\".title()\n",
    "sentence.split() # list of words"
   ]
  },
  {
   "cell_type": "code",
   "execution_count": 52,
   "metadata": {},
   "outputs": [
    {
     "data": {
      "text/plain": [
       "['Ruthu,v', 'nith', ',srik', 'ny', ',n', 'ndini from IIIT']"
      ]
     },
     "execution_count": 52,
     "metadata": {},
     "output_type": "execute_result"
    }
   ],
   "source": [
    "friends=\"Ruthu,vanitha,srikanya,nandini from IIIT\".split(\"a\")\n",
    "friends"
   ]
  },
  {
   "cell_type": "code",
   "execution_count": 55,
   "metadata": {},
   "outputs": [
    {
     "data": {
      "text/plain": [
       "['Ruthu', 'vanitha', 'srikanya', 'nandini.from IIIT']"
      ]
     },
     "execution_count": 55,
     "metadata": {},
     "output_type": "execute_result"
    }
   ],
   "source": [
    "friends=\"Ruthu,vanitha,srikanya,nandini.from IIIT\".split(\",\")\n",
    "friends"
   ]
  },
  {
   "cell_type": "code",
   "execution_count": 56,
   "metadata": {},
   "outputs": [
    {
     "data": {
      "text/plain": [
       "'I am from APSSDC'"
      ]
     },
     "execution_count": 56,
     "metadata": {},
     "output_type": "execute_result"
    }
   ],
   "source": [
    "st=\"              I am from APSSDC\".lstrip()\n",
    "st"
   ]
  },
  {
   "cell_type": "code",
   "execution_count": 58,
   "metadata": {},
   "outputs": [
    {
     "data": {
      "text/plain": [
       "'adjkfhjkdhfjkh'"
      ]
     },
     "execution_count": 58,
     "metadata": {},
     "output_type": "execute_result"
    }
   ],
   "source": [
    "st2=\"adjkfhjkdhfjkh         \".rstrip()\n",
    "st2"
   ]
  },
  {
   "cell_type": "code",
   "execution_count": 59,
   "metadata": {},
   "outputs": [
    {
     "data": {
      "text/plain": [
       "'hdjfhjdhfjk     hi'"
      ]
     },
     "execution_count": 59,
     "metadata": {},
     "output_type": "execute_result"
    }
   ],
   "source": [
    "st3=\"   hdjfhjdhfjk     hi   \".strip()\n",
    "st3"
   ]
  },
  {
   "cell_type": "code",
   "execution_count": 60,
   "metadata": {},
   "outputs": [
    {
     "data": {
      "text/plain": [
       "'IIIT-Nuzvid'"
      ]
     },
     "execution_count": 60,
     "metadata": {},
     "output_type": "execute_result"
    }
   ],
   "source": [
    "clg"
   ]
  },
  {
   "cell_type": "code",
   "execution_count": 62,
   "metadata": {},
   "outputs": [
    {
     "data": {
      "text/plain": [
       "'iiit-nuzvid'"
      ]
     },
     "execution_count": 62,
     "metadata": {},
     "output_type": "execute_result"
    }
   ],
   "source": [
    "clg.lower()"
   ]
  },
  {
   "cell_type": "code",
   "execution_count": 63,
   "metadata": {},
   "outputs": [
    {
     "data": {
      "text/plain": [
       "'IIIT-NUZVID'"
      ]
     },
     "execution_count": 63,
     "metadata": {},
     "output_type": "execute_result"
    }
   ],
   "source": [
    "clg.upper()"
   ]
  },
  {
   "cell_type": "code",
   "execution_count": 64,
   "metadata": {},
   "outputs": [
    {
     "data": {
      "text/plain": [
       "False"
      ]
     },
     "execution_count": 64,
     "metadata": {},
     "output_type": "execute_result"
    }
   ],
   "source": [
    "clg.islower() # checking function"
   ]
  },
  {
   "cell_type": "code",
   "execution_count": 65,
   "metadata": {},
   "outputs": [
    {
     "data": {
      "text/plain": [
       "'IIIT-Nuzvid'"
      ]
     },
     "execution_count": 65,
     "metadata": {},
     "output_type": "execute_result"
    }
   ],
   "source": [
    "clg"
   ]
  },
  {
   "cell_type": "code",
   "execution_count": 66,
   "metadata": {},
   "outputs": [
    {
     "data": {
      "text/plain": [
       "False"
      ]
     },
     "execution_count": 66,
     "metadata": {},
     "output_type": "execute_result"
    }
   ],
   "source": [
    "clg.isupper()"
   ]
  },
  {
   "cell_type": "code",
   "execution_count": 67,
   "metadata": {},
   "outputs": [
    {
     "data": {
      "text/plain": [
       "True"
      ]
     },
     "execution_count": 67,
     "metadata": {},
     "output_type": "execute_result"
    }
   ],
   "source": [
    "al='Ruthu123'\n",
    "al.isalnum() # alphabets and integers"
   ]
  },
  {
   "cell_type": "code",
   "execution_count": 73,
   "metadata": {},
   "outputs": [
    {
     "name": "stdout",
     "output_type": "stream",
     "text": [
      "True\n",
      "True\n"
     ]
    }
   ],
   "source": [
    "nums=\"678909876546789095678876546\"\n",
    "print(nums.isdigit()) # \n",
    "print(nums.isnumeric())"
   ]
  },
  {
   "cell_type": "code",
   "execution_count": 1,
   "metadata": {},
   "outputs": [
    {
     "name": "stdout",
     "output_type": "stream",
     "text": [
      "Enter a char:s\n",
      "Enter a string:python workshop\n",
      "No\n"
     ]
    }
   ],
   "source": [
    "# read a string and a char from user and check whether given string starts with that char\n",
    "# python workshop: s\n",
    "ch=input(\"Enter a char:\")\n",
    "st=input(\"Enter a string:\")\n",
    "if st[0]==ch: # general logic\n",
    "    print(\"yes\")\n",
    "else:print(\"No\")"
   ]
  },
  {
   "cell_type": "code",
   "execution_count": 2,
   "metadata": {},
   "outputs": [
    {
     "name": "stdout",
     "output_type": "stream",
     "text": [
      "No\n"
     ]
    }
   ],
   "source": [
    "if st.startswith(ch):\n",
    "    print(\"yes\")\n",
    "else:print(\"No\")"
   ]
  },
  {
   "cell_type": "code",
   "execution_count": 3,
   "metadata": {},
   "outputs": [
    {
     "data": {
      "text/plain": [
       "False"
      ]
     },
     "execution_count": 3,
     "metadata": {},
     "output_type": "execute_result"
    }
   ],
   "source": [
    "st.endswith(ch) # st[-1]"
   ]
  },
  {
   "cell_type": "code",
   "execution_count": 7,
   "metadata": {},
   "outputs": [
    {
     "data": {
      "text/plain": [
       "'KKR & KSR Institute of Technology'"
      ]
     },
     "execution_count": 7,
     "metadata": {},
     "output_type": "execute_result"
    }
   ],
   "source": [
    "# count the frequency of char in the string\n",
    "college"
   ]
  },
  {
   "cell_type": "code",
   "execution_count": 8,
   "metadata": {},
   "outputs": [
    {
     "name": "stdout",
     "output_type": "stream",
     "text": [
      "Frequency of o is 3\n"
     ]
    }
   ],
   "source": [
    "count=0\n",
    "for ch in college:\n",
    "    if ch==\"o\":\n",
    "        count+=1\n",
    "print(\"Frequency of o is\",count)"
   ]
  },
  {
   "cell_type": "code",
   "execution_count": 9,
   "metadata": {},
   "outputs": [
    {
     "data": {
      "text/plain": [
       "3"
      ]
     },
     "execution_count": 9,
     "metadata": {},
     "output_type": "execute_result"
    }
   ],
   "source": [
    "college.count(\"o\")"
   ]
  },
  {
   "cell_type": "code",
   "execution_count": 11,
   "metadata": {},
   "outputs": [
    {
     "data": {
      "text/plain": [
       "2"
      ]
     },
     "execution_count": 11,
     "metadata": {},
     "output_type": "execute_result"
    }
   ],
   "source": [
    "college.count(\"e\")"
   ]
  },
  {
   "cell_type": "code",
   "execution_count": 12,
   "metadata": {},
   "outputs": [
    {
     "data": {
      "text/plain": [
       "20"
      ]
     },
     "execution_count": 12,
     "metadata": {},
     "output_type": "execute_result"
    }
   ],
   "source": [
    "college.index(\"o\") # o times:first occurence"
   ]
  },
  {
   "cell_type": "code",
   "execution_count": 15,
   "metadata": {},
   "outputs": [
    {
     "data": {
      "text/plain": [
       "18"
      ]
     },
     "execution_count": 15,
     "metadata": {},
     "output_type": "execute_result"
    }
   ],
   "source": [
    "college.find(\"e\") # index value of char"
   ]
  },
  {
   "cell_type": "code",
   "execution_count": 16,
   "metadata": {},
   "outputs": [
    {
     "data": {
      "text/plain": [
       "'e'"
      ]
     },
     "execution_count": 16,
     "metadata": {},
     "output_type": "execute_result"
    }
   ],
   "source": [
    "college[18]"
   ]
  },
  {
   "cell_type": "code",
   "execution_count": 17,
   "metadata": {},
   "outputs": [
    {
     "name": "stdout",
     "output_type": "stream",
     "text": [
      "kjajdkf I am RuthU FROM apssdc\n",
      "a I a u U O a "
     ]
    }
   ],
   "source": [
    "# read a string from the user and print the vowels in stringf\n",
    "line=input()\n",
    "for ch in line:\n",
    "    if ch==\"a\" or ch==\"e\" or ch=='i' or ch=='o' or ch=='u' or ch=='A' or ch==\"E\" or ch==\"I\" or ch==\"O\" or ch==\"U\":\n",
    "        print(ch,end=\" \")"
   ]
  },
  {
   "cell_type": "code",
   "execution_count": 18,
   "metadata": {},
   "outputs": [
    {
     "name": "stdout",
     "output_type": "stream",
     "text": [
      "a I a u U O a "
     ]
    }
   ],
   "source": [
    "vowels=\"aeiouAEIOU\"\n",
    "for ch in line:\n",
    "    if ch in vowels:\n",
    "        print(ch,end=\" \")"
   ]
  },
  {
   "cell_type": "code",
   "execution_count": 19,
   "metadata": {},
   "outputs": [],
   "source": [
    "# read n space separated integers from user and print the numbers \n",
    "# which are divisible by 3 and 5 but not by 7\n",
    "# read space separate values from user and find the sum of middle digits in it\n",
    "# 897 654 267 901 934 :i/p\n",
    "# o/p:9+5+6+0+3=23"
   ]
  },
  {
   "cell_type": "markdown",
   "metadata": {},
   "source": [
    "### Functions\n",
    "- A set of statements that are executed to perform a specific task\n",
    "- **Syntax**\n",
    "    - **def** function_name(arguments):\n",
    "        - statements goes here\n",
    "            - return statement\n",
    "- The function gets executed when it is called\n",
    "- function definition and function call\n",
    "- Code reusability\n",
    "- modularity of code\n",
    "- we can define the function in 4 ways"
   ]
  },
  {
   "cell_type": "code",
   "execution_count": 20,
   "metadata": {},
   "outputs": [
    {
     "name": "stdout",
     "output_type": "stream",
     "text": [
      "sum= 156\n"
     ]
    }
   ],
   "source": [
    "# simple basic idea of function\n",
    "# simple function to 3 numbers\n",
    "x,y,z=10,56,90\n",
    "print(\"sum=\",x+y+z)"
   ]
  },
  {
   "cell_type": "code",
   "execution_count": 21,
   "metadata": {},
   "outputs": [
    {
     "data": {
      "text/plain": [
       "156"
      ]
     },
     "execution_count": 21,
     "metadata": {},
     "output_type": "execute_result"
    }
   ],
   "source": [
    "# function with argument and with return statement\n",
    "def add(x,y,z):\n",
    "    return x+y+z\n",
    "\n",
    "add(10,56,90) # function call"
   ]
  },
  {
   "cell_type": "code",
   "execution_count": 22,
   "metadata": {},
   "outputs": [
    {
     "name": "stdout",
     "output_type": "stream",
     "text": [
      "sum of x y and z= 156\n"
     ]
    }
   ],
   "source": [
    "print(\"sum of x y and z=\",add(10,56,90))"
   ]
  },
  {
   "cell_type": "code",
   "execution_count": 23,
   "metadata": {},
   "outputs": [
    {
     "name": "stdout",
     "output_type": "stream",
     "text": [
      "first number:90\n",
      "second number:34\n",
      "third number:56\n",
      "The summation value= 180\n"
     ]
    }
   ],
   "source": [
    "# function with arguments and without return statement\n",
    "f,s,th=int(input(\"first number:\")),int(input(\"second number:\")),int(input(\"third number:\"))\n",
    "def add2(f,s,th):\n",
    "    print(\"The summation value=\",f+s+th) # formal paramenters\n",
    "    \n",
    "add2(f,s,th) # actual parameters"
   ]
  },
  {
   "cell_type": "code",
   "execution_count": 25,
   "metadata": {},
   "outputs": [
    {
     "name": "stdout",
     "output_type": "stream",
     "text": [
      "sum: 28\n"
     ]
    }
   ],
   "source": [
    "# function without args and with return statement\n",
    "def add3():\n",
    "    a,b,c=9,4,15\n",
    "    return a+b+c\n",
    "\n",
    "print(\"sum:\",add3())"
   ]
  },
  {
   "cell_type": "code",
   "execution_count": 26,
   "metadata": {},
   "outputs": [
    {
     "name": "stdout",
     "output_type": "stream",
     "text": [
      "Hi I am from the function add4\n"
     ]
    }
   ],
   "source": [
    "def add4():\n",
    "    print(\"Hi I am from the function add4\")\n",
    "    \n",
    "add4()"
   ]
  },
  {
   "cell_type": "code",
   "execution_count": 31,
   "metadata": {},
   "outputs": [
    {
     "name": "stdout",
     "output_type": "stream",
     "text": [
      "Enter the number:9\n",
      "Not a prime\n"
     ]
    }
   ],
   "source": [
    "# write python program to find the prime no.s present in a range\n",
    "# 100 to 200 # 6 ways\n",
    "# academic solution\n",
    "n=int(input(\"Enter the number:\"))\n",
    "# n:2 factors:1 & n:1 to n(loop):factor\n",
    "factors=0\n",
    "for num in range(1,n+1):\n",
    "    if n%num==0: # num is factor of n\n",
    "        factors+=1\n",
    "if factors==2:\n",
    "    print(\"give number is prime\")\n",
    "else:print(\"Not a prime\")"
   ]
  },
  {
   "cell_type": "code",
   "execution_count": 32,
   "metadata": {},
   "outputs": [
    {
     "name": "stdout",
     "output_type": "stream",
     "text": [
      "101 103 107 109 113 127 131 137 139 149 151 157 163 167 173 179 181 191 193 197 199 "
     ]
    }
   ],
   "source": [
    "lw,up=100,200\n",
    "for num in range(lw,up+1):\n",
    "    count=0\n",
    "    for dig in range(1,num+1):\n",
    "        if num%dig is 0:\n",
    "            count+=1\n",
    "    if count==2:\n",
    "        print(num,end=\" \")"
   ]
  },
  {
   "cell_type": "code",
   "execution_count": 29,
   "metadata": {},
   "outputs": [
    {
     "data": {
      "text/plain": [
       "0"
      ]
     },
     "execution_count": 29,
     "metadata": {},
     "output_type": "execute_result"
    }
   ],
   "source": [
    "6%2"
   ]
  },
  {
   "cell_type": "code",
   "execution_count": 33,
   "metadata": {},
   "outputs": [],
   "source": [
    "# using while loop(upper) and inner loop(for)\n",
    "# outer loop(for) and inner loop(while)\n",
    "# both loops using while\n",
    "# using functions\n",
    "# primes between 200 to 100 reverse order\n",
    "# perfect no.s present in a range\n",
    "# without using while loop:sum of the digits :12345:1+2+3+4+5=15"
   ]
  },
  {
   "cell_type": "code",
   "execution_count": 34,
   "metadata": {},
   "outputs": [
    {
     "name": "stdout",
     "output_type": "stream",
     "text": [
      "first:100\n",
      "second:200\n",
      "101 103 107 109 113 127 131 137 139 149 151 157 163 167 173 179 181 191 193 197 199 "
     ]
    }
   ],
   "source": [
    "f,s=int(input(\"first:\")),int(input(\"second:\"))\n",
    "#it=f\n",
    "while f<=s: # f+++++=s\n",
    "    count=0\n",
    "    for num in range(1,f+1):\n",
    "        if f%num==0:\n",
    "            count+=1\n",
    "    if count==2:\n",
    "        print(f,end=\" \")\n",
    "    f+=1"
   ]
  },
  {
   "cell_type": "code",
   "execution_count": 1,
   "metadata": {},
   "outputs": [
    {
     "name": "stdout",
     "output_type": "stream",
     "text": [
      "100\n",
      "200\n",
      "101 103 107 109 113 127 131 137 139 149 151 157 163 167 173 179 181 191 193 197 199 "
     ]
    }
   ],
   "source": [
    "# for and while\n",
    "\n",
    "for num in range(int(input()),int(input())):\n",
    "    it=1\n",
    "    count=0\n",
    "    while it<=num:\n",
    "        if num%it==0:\n",
    "            count+=1\n",
    "        it+=1\n",
    "    if count==2:\n",
    "        print(num,end=\" \")"
   ]
  },
  {
   "cell_type": "code",
   "execution_count": 2,
   "metadata": {},
   "outputs": [],
   "source": [
    "# both while loops "
   ]
  },
  {
   "cell_type": "code",
   "execution_count": 12,
   "metadata": {},
   "outputs": [
    {
     "name": "stdout",
     "output_type": "stream",
     "text": [
      "True\n"
     ]
    },
    {
     "data": {
      "text/plain": [
       "False"
      ]
     },
     "execution_count": 12,
     "metadata": {},
     "output_type": "execute_result"
    }
   ],
   "source": [
    "# using functions\n",
    "def is_prime(n):\n",
    "    count=0\n",
    "    for num in range(1,n//2+1): #\n",
    "        if n%num==0:\n",
    "            count+=1\n",
    "    if count==1:\n",
    "        return True\n",
    "    else:return False\n",
    "    \n",
    "    \n",
    "print(is_prime(11))\n",
    "is_prime(9)"
   ]
  },
  {
   "cell_type": "code",
   "execution_count": 9,
   "metadata": {},
   "outputs": [
    {
     "name": "stdout",
     "output_type": "stream",
     "text": [
      "1 2 4 5 10 "
     ]
    }
   ],
   "source": [
    "def factors(n):\n",
    "    for num in range(1,n):\n",
    "        if n%num==0:\n",
    "            print(num,end=\" \")\n",
    "            \n",
    "factors(20)"
   ]
  },
  {
   "cell_type": "code",
   "execution_count": 10,
   "metadata": {},
   "outputs": [
    {
     "name": "stdout",
     "output_type": "stream",
     "text": [
      "1 2 4 5 10 "
     ]
    }
   ],
   "source": [
    "def factors(n):\n",
    "    for num in range(1,n//2+1):\n",
    "        if n%num==0:\n",
    "            print(num,end=\" \")\n",
    "            \n",
    "factors(20)"
   ]
  },
  {
   "cell_type": "code",
   "execution_count": 13,
   "metadata": {},
   "outputs": [
    {
     "name": "stdout",
     "output_type": "stream",
     "text": [
      "101 103 107 109 113 127 131 137 139 149 151 157 163 167 173 179 181 191 193 197 199 "
     ]
    }
   ],
   "source": [
    "for num in range(100,200):\n",
    "    if is_prime(num): # function call\n",
    "        print(num,end=\" \")"
   ]
  },
  {
   "cell_type": "code",
   "execution_count": 14,
   "metadata": {},
   "outputs": [
    {
     "name": "stdout",
     "output_type": "stream",
     "text": [
      "211 223 227 229 233 239 241 251 257 263 269 271 277 281 283 293 "
     ]
    }
   ],
   "source": [
    "def prime_range(lw,up):\n",
    "    for num in range(lw,up+1):\n",
    "        if is_prime(num):\n",
    "            print(num,end=\" \")\n",
    "            \n",
    "            \n",
    "prime_range(200,300)"
   ]
  },
  {
   "cell_type": "code",
   "execution_count": 16,
   "metadata": {},
   "outputs": [
    {
     "name": "stdout",
     "output_type": "stream",
     "text": [
      "non prime\n"
     ]
    }
   ],
   "source": [
    "# return and print statements \n",
    "def prime(n):\n",
    "    factors=0\n",
    "    for num in range(1,n+1):\n",
    "        if n%num==0:\n",
    "            factors+=1\n",
    "    if factors==2:\n",
    "        print(\"prime\")\n",
    "    else:print(\"non prime\")\n",
    "        \n",
    "        \n",
    "prime(100)"
   ]
  },
  {
   "cell_type": "code",
   "execution_count": 19,
   "metadata": {},
   "outputs": [
    {
     "name": "stdout",
     "output_type": "stream",
     "text": [
      "prime\n"
     ]
    }
   ],
   "source": [
    "prime(97)"
   ]
  },
  {
   "cell_type": "code",
   "execution_count": 20,
   "metadata": {},
   "outputs": [
    {
     "name": "stdout",
     "output_type": "stream",
     "text": [
      "non prime\n",
      "prime\n",
      "prime\n",
      "non prime\n",
      "prime\n",
      "non prime\n",
      "prime\n",
      "non prime\n",
      "non prime\n",
      "non prime\n",
      "prime\n",
      "non prime\n",
      "prime\n",
      "non prime\n",
      "non prime\n",
      "non prime\n",
      "prime\n",
      "non prime\n",
      "prime\n",
      "non prime\n",
      "non prime\n",
      "non prime\n",
      "prime\n",
      "non prime\n",
      "non prime\n",
      "non prime\n",
      "non prime\n",
      "non prime\n",
      "prime\n",
      "non prime\n",
      "prime\n",
      "non prime\n",
      "non prime\n",
      "non prime\n",
      "non prime\n",
      "non prime\n",
      "prime\n",
      "non prime\n",
      "non prime\n",
      "non prime\n",
      "prime\n",
      "non prime\n",
      "prime\n",
      "non prime\n",
      "non prime\n",
      "non prime\n",
      "prime\n",
      "non prime\n",
      "non prime\n",
      "non prime\n",
      "non prime\n",
      "non prime\n",
      "prime\n",
      "non prime\n",
      "non prime\n",
      "non prime\n",
      "non prime\n",
      "non prime\n",
      "prime\n",
      "non prime\n",
      "prime\n",
      "non prime\n",
      "non prime\n",
      "non prime\n",
      "non prime\n",
      "non prime\n",
      "prime\n",
      "non prime\n",
      "non prime\n",
      "non prime\n",
      "prime\n",
      "non prime\n",
      "prime\n",
      "non prime\n",
      "non prime\n",
      "non prime\n",
      "non prime\n",
      "non prime\n",
      "prime\n",
      "non prime\n",
      "non prime\n",
      "non prime\n",
      "prime\n",
      "non prime\n",
      "non prime\n",
      "non prime\n",
      "non prime\n",
      "non prime\n",
      "prime\n",
      "non prime\n",
      "non prime\n",
      "non prime\n",
      "non prime\n",
      "non prime\n",
      "non prime\n",
      "non prime\n",
      "prime\n",
      "non prime\n",
      "non prime\n"
     ]
    }
   ],
   "source": [
    "for num in range(1,100):\n",
    "    if prime(num):\n",
    "        print(num,end=\" \")"
   ]
  },
  {
   "cell_type": "code",
   "execution_count": null,
   "metadata": {},
   "outputs": [],
   "source": []
  }
 ],
 "metadata": {
  "kernelspec": {
   "display_name": "Python 3",
   "language": "python",
   "name": "python3"
  },
  "language_info": {
   "codemirror_mode": {
    "name": "ipython",
    "version": 3
   },
   "file_extension": ".py",
   "mimetype": "text/x-python",
   "name": "python",
   "nbconvert_exporter": "python",
   "pygments_lexer": "ipython3",
   "version": "3.7.4"
  }
 },
 "nbformat": 4,
 "nbformat_minor": 2
}
