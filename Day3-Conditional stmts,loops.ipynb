{
 "cells": [
  {
   "cell_type": "markdown",
   "metadata": {},
   "source": [
    "## Day Agenda\n",
    "- Number system in python\n",
    "- Conditional Statements in python\n",
    "- Loops in Python\n",
    "- Range in Python\n",
    "- String's in Python"
   ]
  },
  {
   "cell_type": "markdown",
   "metadata": {},
   "source": [
    "## Number system in python"
   ]
  },
  {
   "cell_type": "code",
   "execution_count": 1,
   "metadata": {},
   "outputs": [],
   "source": [
    "a=5"
   ]
  },
  {
   "cell_type": "code",
   "execution_count": 2,
   "metadata": {},
   "outputs": [
    {
     "data": {
      "text/plain": [
       "'0b101'"
      ]
     },
     "execution_count": 2,
     "metadata": {},
     "output_type": "execute_result"
    }
   ],
   "source": [
    "bin(a)"
   ]
  },
  {
   "cell_type": "code",
   "execution_count": 3,
   "metadata": {},
   "outputs": [
    {
     "name": "stdout",
     "output_type": "stream",
     "text": [
      "0x5\n"
     ]
    }
   ],
   "source": [
    "print(hex(a))"
   ]
  },
  {
   "cell_type": "code",
   "execution_count": 4,
   "metadata": {},
   "outputs": [
    {
     "data": {
      "text/plain": [
       "'0o5'"
      ]
     },
     "execution_count": 4,
     "metadata": {},
     "output_type": "execute_result"
    }
   ],
   "source": [
    "oct(a)"
   ]
  },
  {
   "cell_type": "code",
   "execution_count": 6,
   "metadata": {},
   "outputs": [
    {
     "data": {
      "text/plain": [
       "5"
      ]
     },
     "execution_count": 6,
     "metadata": {},
     "output_type": "execute_result"
    }
   ],
   "source": [
    "int(oct(a),8)# type casting from octal to integer"
   ]
  },
  {
   "cell_type": "code",
   "execution_count": 8,
   "metadata": {},
   "outputs": [
    {
     "data": {
      "text/plain": [
       "5"
      ]
     },
     "execution_count": 8,
     "metadata": {},
     "output_type": "execute_result"
    }
   ],
   "source": [
    "int(hex(a),16)"
   ]
  },
  {
   "cell_type": "code",
   "execution_count": 10,
   "metadata": {},
   "outputs": [
    {
     "data": {
      "text/plain": [
       "'a'"
      ]
     },
     "execution_count": 10,
     "metadata": {},
     "output_type": "execute_result"
    }
   ],
   "source": [
    "chr(97) # to get the character from asci value"
   ]
  },
  {
   "cell_type": "code",
   "execution_count": 11,
   "metadata": {},
   "outputs": [
    {
     "data": {
      "text/plain": [
       "97"
      ]
     },
     "execution_count": 11,
     "metadata": {},
     "output_type": "execute_result"
    }
   ],
   "source": [
    "ord('a') # To get asci number from character"
   ]
  },
  {
   "cell_type": "code",
   "execution_count": 12,
   "metadata": {},
   "outputs": [
    {
     "data": {
      "text/plain": [
       "65"
      ]
     },
     "execution_count": 12,
     "metadata": {},
     "output_type": "execute_result"
    }
   ],
   "source": [
    "ord(\"A\")"
   ]
  },
  {
   "cell_type": "code",
   "execution_count": 13,
   "metadata": {},
   "outputs": [
    {
     "data": {
      "text/plain": [
       "'A'"
      ]
     },
     "execution_count": 13,
     "metadata": {},
     "output_type": "execute_result"
    }
   ],
   "source": [
    "chr(65)"
   ]
  },
  {
   "cell_type": "markdown",
   "metadata": {},
   "source": [
    "## Conditional Statements in python\n",
    "- if\n",
    "- else\n",
    "- elif"
   ]
  },
  {
   "cell_type": "markdown",
   "metadata": {},
   "source": [
    "## Synatx \n",
    "- if \n",
    "    > if (condition):\n",
    "        Block of statements\n",
    "- if -else\n",
    "    > if (condition):\n",
    "        Block of statements\n",
    "     else:\n",
    "         Block of statements\n",
    "- if -elif-else\n",
    "    > if (condition):\n",
    "        Block of statements\n",
    "    elif(condition2):\n",
    "         Block of statements \n",
    "    else:\n",
    "          Block of statements"
   ]
  },
  {
   "cell_type": "code",
   "execution_count": 16,
   "metadata": {},
   "outputs": [
    {
     "name": "stdout",
     "output_type": "stream",
     "text": [
      "x is not grater than y\n"
     ]
    }
   ],
   "source": [
    "x=12\n",
    "y=56\n",
    "if x>y:\n",
    "    print(\"x is grater than y\")\n",
    "else:\n",
    "    print(\"x is not grater than y\")"
   ]
  },
  {
   "cell_type": "code",
   "execution_count": 17,
   "metadata": {},
   "outputs": [
    {
     "name": "stdout",
     "output_type": "stream",
     "text": [
      "C is bigger 30\n"
     ]
    }
   ],
   "source": [
    "x=15\n",
    "y=20 \n",
    "c=30\n",
    "if x>y and x>c:\n",
    "    print(\"x is bigger\",x)\n",
    "elif y>x and y>c:\n",
    "    print(\"y is bigger\",y)\n",
    "elif c>x and c>y:\n",
    "    print(\"C is bigger\",c)\n",
    "    \n"
   ]
  },
  {
   "cell_type": "markdown",
   "metadata": {},
   "source": [
    "## Write a python Program to find the given number is even or odd"
   ]
  },
  {
   "cell_type": "code",
   "execution_count": 21,
   "metadata": {},
   "outputs": [
    {
     "name": "stdout",
     "output_type": "stream",
     "text": [
      "12333\n",
      "12333 Odd\n"
     ]
    }
   ],
   "source": [
    "x=int(input())\n",
    "if x%2==0:\n",
    "    print(x,\"even\")\n",
    "else:\n",
    "    print(x,\"Odd\")"
   ]
  },
  {
   "cell_type": "markdown",
   "metadata": {},
   "source": [
    "## write a Program to find the given year is leap year or not"
   ]
  },
  {
   "cell_type": "code",
   "execution_count": 25,
   "metadata": {},
   "outputs": [
    {
     "name": "stdout",
     "output_type": "stream",
     "text": [
      "2021\n",
      "2021 Not a Leap Year\n"
     ]
    }
   ],
   "source": [
    "year=int(input())\n",
    "if (year%400==0)or (year%4==0 and year%100!=0):\n",
    "    print(year,\" a Leap year\")\n",
    "else:\n",
    "    print(year,\"Not a Leap Year\")"
   ]
  },
  {
   "cell_type": "markdown",
   "metadata": {},
   "source": [
    "## write a Python Program to develope caluclator application\n",
    "- 2 dynamical inputs\n",
    "- 1 dynamical operator(+,-,*,/,%)"
   ]
  },
  {
   "cell_type": "code",
   "execution_count": 28,
   "metadata": {},
   "outputs": [
    {
     "name": "stdout",
     "output_type": "stream",
     "text": [
      "56\n",
      "57\n",
      "operation:+,-,*,/\n",
      "select operation:%\n",
      "invalid operation\n"
     ]
    }
   ],
   "source": [
    "x=int(input())\n",
    "y=int(input())\n",
    "print(\"operation:+,-,*,/\")\n",
    "select=input(\"select operation:\")\n",
    "if select==\"+\":\n",
    "    print(x,\"+\",y,\"=\",x+y)\n",
    "elif select==\"-\":\n",
    "    print(x,\"-\",y,\"=\",x-y)\n",
    "elif select==\"*\":\n",
    "    print(x,\"*\",y,\"=\",x*y)\n",
    "elif select==\"/\":\n",
    "    print(x,\"/\",y,\"=\",x/y)\n",
    "else:\n",
    "    print(\"invalid operation\")\n",
    "\n"
   ]
  },
  {
   "cell_type": "markdown",
   "metadata": {},
   "source": [
    "## Loops in Python\n",
    "- To run application up to the certain times\n",
    "- for\n",
    "- while "
   ]
  },
  {
   "cell_type": "markdown",
   "metadata": {},
   "source": [
    "## Syntax\n",
    "- for \n",
    "    - for iterative variable in group of data:\n",
    "        - Block code\n",
    "    - range(start,stop,step):\n",
    "        - start value from 0\n",
    "        - step value from 1\n",
    "- while\n",
    "- - to iterate loop infinitly\n",
    "    - while(condition):\n",
    "      - Block code"
   ]
  },
  {
   "cell_type": "code",
   "execution_count": 30,
   "metadata": {},
   "outputs": [
    {
     "name": "stdout",
     "output_type": "stream",
     "text": [
      "1 2 3 4 5 6 7 8 9 10\n"
     ]
    }
   ],
   "source": [
    "print(1,2,3,4,5,6,7,8,9,10)"
   ]
  },
  {
   "cell_type": "code",
   "execution_count": 31,
   "metadata": {},
   "outputs": [
    {
     "data": {
      "text/plain": [
       "range(1, 100)"
      ]
     },
     "execution_count": 31,
     "metadata": {},
     "output_type": "execute_result"
    }
   ],
   "source": [
    "range(1,100,1)"
   ]
  },
  {
   "cell_type": "code",
   "execution_count": 34,
   "metadata": {},
   "outputs": [
    {
     "name": "stdout",
     "output_type": "stream",
     "text": [
      "1 2 3 4 5 6 7 8 9 10 11 12 13 14 15 16 17 18 19 20 21 22 23 24 25 26 27 28 29 30 31 32 33 34 35 36 37 38 39 40 41 42 43 44 45 46 47 48 49 50 51 52 53 54 55 56 57 58 59 60 61 62 63 64 65 66 67 68 69 70 71 72 73 74 75 76 77 78 79 80 81 82 83 84 85 86 87 88 89 90 91 92 93 94 95 96 97 98 99 100 "
     ]
    }
   ],
   "source": [
    "for i in range(1,101):\n",
    "    print(i,end=' ')"
   ]
  },
  {
   "cell_type": "code",
   "execution_count": 35,
   "metadata": {},
   "outputs": [
    {
     "name": "stdout",
     "output_type": "stream",
     "text": [
      "2 4 6 8 10 12 14 16 18 20 22 24 26 28 30 32 34 36 38 40 42 44 46 48 50 52 54 56 58 60 62 64 66 68 70 72 74 76 78 80 82 84 86 88 90 92 94 96 98 100 "
     ]
    }
   ],
   "source": [
    "for i in range(2,101,2):\n",
    "    print(i,end=' ')"
   ]
  },
  {
   "cell_type": "code",
   "execution_count": 39,
   "metadata": {},
   "outputs": [
    {
     "name": "stdout",
     "output_type": "stream",
     "text": [
      "0 1 2 3 4 5 6 7 8 9 10 11 12 13 14 15 16 17 18 19 20 21 22 23 24 25 26 27 28 29 30 31 32 33 34 35 36 37 38 39 40 41 42 43 44 45 46 47 48 49 50 51 52 53 54 55 56 57 58 59 60 61 62 63 64 65 66 67 68 69 70 71 72 73 74 75 76 77 78 79 80 81 82 83 84 85 86 87 88 89 90 91 92 93 94 95 96 97 98 99 100 "
     ]
    }
   ],
   "source": [
    "for i in range(101):\n",
    "    print(i,end=' ')"
   ]
  },
  {
   "cell_type": "code",
   "execution_count": 42,
   "metadata": {},
   "outputs": [
    {
     "name": "stdout",
     "output_type": "stream",
     "text": [
      "100 99 98 97 96 95 94 93 92 91 90 89 88 87 86 85 84 83 82 81 80 79 78 77 76 75 74 73 72 71 70 69 68 67 66 65 64 63 62 61 60 59 58 57 56 55 54 53 52 51 50 49 48 47 46 45 44 43 42 41 40 39 38 37 36 35 34 33 32 31 30 29 28 27 26 25 24 23 22 21 20 19 18 17 16 15 14 13 12 11 10 9 8 7 6 5 4 3 2 1 "
     ]
    }
   ],
   "source": [
    "for i in range(100,0,-1):\n",
    "    print(i,end=' ')"
   ]
  },
  {
   "cell_type": "code",
   "execution_count": 43,
   "metadata": {},
   "outputs": [
    {
     "name": "stdout",
     "output_type": "stream",
     "text": [
      "100\t 99\t 98\t 97\t 96\t 95\t 94\t 93\t 92\t 91\t 90\t 89\t 88\t 87\t 86\t 85\t 84\t 83\t 82\t 81\t 80\t 79\t 78\t 77\t 76\t 75\t 74\t 73\t 72\t 71\t 70\t 69\t 68\t 67\t 66\t 65\t 64\t 63\t 62\t 61\t 60\t 59\t 58\t 57\t 56\t 55\t 54\t 53\t 52\t 51\t 50\t 49\t 48\t 47\t 46\t 45\t 44\t 43\t 42\t 41\t 40\t 39\t 38\t 37\t 36\t 35\t 34\t 33\t 32\t 31\t 30\t 29\t 28\t 27\t 26\t 25\t 24\t 23\t 22\t 21\t 20\t 19\t 18\t 17\t 16\t 15\t 14\t 13\t 12\t 11\t 10\t 9\t 8\t 7\t 6\t 5\t 4\t 3\t 2\t 1\t "
     ]
    }
   ],
   "source": [
    "for i in range(100,0,-1):\n",
    "    print(i,end='\\t ')"
   ]
  },
  {
   "cell_type": "markdown",
   "metadata": {},
   "source": [
    "## write a python program to check the given numbers are even or odd in a given range\n"
   ]
  },
  {
   "cell_type": "code",
   "execution_count": 48,
   "metadata": {},
   "outputs": [
    {
     "name": "stdout",
     "output_type": "stream",
     "text": [
      "1\n",
      "50\n",
      "1 odd number\n",
      "2 even number\n",
      "3 odd number\n",
      "4 even number\n",
      "5 odd number\n",
      "6 even number\n",
      "7 odd number\n",
      "8 even number\n",
      "9 odd number\n",
      "10 even number\n",
      "11 odd number\n",
      "12 even number\n",
      "13 odd number\n",
      "14 even number\n",
      "15 odd number\n",
      "16 even number\n",
      "17 odd number\n",
      "18 even number\n",
      "19 odd number\n",
      "20 even number\n",
      "21 odd number\n",
      "22 even number\n",
      "23 odd number\n",
      "24 even number\n",
      "25 odd number\n",
      "26 even number\n",
      "27 odd number\n",
      "28 even number\n",
      "29 odd number\n",
      "30 even number\n",
      "31 odd number\n",
      "32 even number\n",
      "33 odd number\n",
      "34 even number\n",
      "35 odd number\n",
      "36 even number\n",
      "37 odd number\n",
      "38 even number\n",
      "39 odd number\n",
      "40 even number\n",
      "41 odd number\n",
      "42 even number\n",
      "43 odd number\n",
      "44 even number\n",
      "45 odd number\n",
      "46 even number\n",
      "47 odd number\n",
      "48 even number\n",
      "49 odd number\n",
      "50 even number\n"
     ]
    }
   ],
   "source": [
    "start=int(input())\n",
    "stop=int(input())\n",
    "for i in range(start,stop+1):\n",
    "    #print(i)\n",
    "    if i%2==0:\n",
    "        print(i,\"even number\")\n",
    "    else:\n",
    "        print(i,\"odd number\")\n",
    "        "
   ]
  },
  {
   "cell_type": "markdown",
   "metadata": {},
   "source": [
    "## Write Python Program to find the given years are leap years or not in a given range\n",
    "- 2000-3050"
   ]
  },
  {
   "cell_type": "markdown",
   "metadata": {},
   "source": [
    "## Write a python program to find the numbers are  prime or not in a given range\n",
    "- 1-100\n",
    "- the number should divisible by 1 and itself\n",
    "- 2 factors"
   ]
  },
  {
   "cell_type": "code",
   "execution_count": 50,
   "metadata": {},
   "outputs": [
    {
     "name": "stdout",
     "output_type": "stream",
     "text": [
      "1\t2\t3\t4\t5\t6\t7\t8\t9\t10\t"
     ]
    }
   ],
   "source": [
    "i=1\n",
    "while(i<=10):\n",
    "    print(i,end='\\t')\n",
    "    i+=1 ##i=i+1\n",
    "    "
   ]
  },
  {
   "cell_type": "markdown",
   "metadata": {},
   "source": [
    "- break:Stop the excution\n",
    "- continue: skip current excution and continue with next iteration"
   ]
  },
  {
   "cell_type": "code",
   "execution_count": 51,
   "metadata": {},
   "outputs": [
    {
     "name": "stdout",
     "output_type": "stream",
     "text": [
      "1\n",
      "2\n",
      "3\n",
      "4\n",
      "5\n",
      "6\n"
     ]
    }
   ],
   "source": [
    "i=1\n",
    "while(i<=10):\n",
    "    print(i)\n",
    "    i+=1\n",
    "    if i==7:\n",
    "        break\n",
    "    "
   ]
  },
  {
   "cell_type": "code",
   "execution_count": 3,
   "metadata": {},
   "outputs": [
    {
     "name": "stdout",
     "output_type": "stream",
     "text": [
      "2 3 4 5 6 7 8 9 11 12 13 14 15 16 17 18 19 20 21 "
     ]
    }
   ],
   "source": [
    "i=1\n",
    "while(i<=20):\n",
    "    i+=1\n",
    "    if i==10:\n",
    "        continue\n",
    "    print(i,end=' ')\n",
    "    "
   ]
  },
  {
   "cell_type": "code",
   "execution_count": 1,
   "metadata": {},
   "outputs": [
    {
     "name": "stdout",
     "output_type": "stream",
     "text": [
      "1 3 5 7 9 11 13 15 17 19 "
     ]
    }
   ],
   "source": [
    "for i in range(1,100):\n",
    "    if i==20:\n",
    "        break\n",
    "    elif i%2==0:\n",
    "        continue\n",
    "    print(i,end=' ')\n",
    "        "
   ]
  },
  {
   "cell_type": "code",
   "execution_count": null,
   "metadata": {},
   "outputs": [],
   "source": []
  }
 ],
 "metadata": {
  "kernelspec": {
   "display_name": "Python 3",
   "language": "python",
   "name": "python3"
  },
  "language_info": {
   "codemirror_mode": {
    "name": "ipython",
    "version": 3
   },
   "file_extension": ".py",
   "mimetype": "text/x-python",
   "name": "python",
   "nbconvert_exporter": "python",
   "pygments_lexer": "ipython3",
   "version": "3.8.5"
  }
 },
 "nbformat": 4,
 "nbformat_minor": 4
}
